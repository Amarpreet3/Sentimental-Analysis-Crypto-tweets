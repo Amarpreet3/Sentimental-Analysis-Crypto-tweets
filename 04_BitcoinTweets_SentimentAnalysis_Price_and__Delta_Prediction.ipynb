{
  "cells": [
    {
      "cell_type": "markdown",
      "metadata": {
        "id": "view-in-github",
        "colab_type": "text"
      },
      "source": [
        "<a href=\"https://colab.research.google.com/github/Amarpreet3/Sentimental-Analysis-Crypto-tweets/blob/main/04_BitcoinTweets_SentimentAnalysis_Price_and__Delta_Prediction.ipynb\" target=\"_parent\"><img src=\"https://colab.research.google.com/assets/colab-badge.svg\" alt=\"Open In Colab\"/></a>"
      ]
    },
    {
      "cell_type": "markdown",
      "metadata": {
        "id": "pBZU-ZCt5ok_"
      },
      "source": [
        "#Datasets"
      ]
    },
    {
      "cell_type": "code",
      "execution_count": 37,
      "metadata": {
        "id": "ljjybqcYnwez"
      },
      "outputs": [],
      "source": [
        "#Price"
      ]
    },
    {
      "cell_type": "code",
      "execution_count": 38,
      "metadata": {
        "colab": {
          "base_uri": "https://localhost:8080/"
        },
        "id": "Gs0pb-r3ocrj",
        "outputId": "e9059d35-6872-45e4-f82f-6280fad52ac4"
      },
      "outputs": [
        {
          "output_type": "stream",
          "name": "stdout",
          "text": [
            "                  time     close      high       low      open  volumefrom  \\\n",
            "0  2023-02-19 13:00:00  24682.03  24715.82  24682.03  24707.39      903.97   \n",
            "1  2023-02-19 14:00:00  24765.79  24792.85  24679.21  24682.03     1220.29   \n",
            "2  2023-02-19 15:00:00  24928.21  25022.49  24751.96  24765.79     5074.50   \n",
            "3  2023-02-19 16:00:00  24786.44  25175.28  24704.53  24928.21     7094.72   \n",
            "4  2023-02-19 17:00:00  24364.95  24806.64  24346.17  24786.44     6896.84   \n",
            "\n",
            "       volumeto        Date      Time        volume     marketcap  price_delta  \n",
            "0  2.233594e+07  2023-02-19  13:00:00  2.233504e+07  5.512964e+11          NaN  \n",
            "1  3.020300e+07  2023-02-19  14:00:00  3.020178e+07  7.480012e+11        83.76  \n",
            "2  1.263085e+08  2023-02-19  15:00:00  1.263034e+08  3.148644e+12       162.42  \n",
            "3  1.770671e+08  2023-02-19  16:00:00  1.770600e+08  4.388863e+12      -141.77  \n",
            "4  1.693379e+08  2023-02-19  17:00:00  1.693310e+08  4.125910e+12      -421.49  \n"
          ]
        }
      ],
      "source": [
        "import pandas as pd\n",
        "\n",
        "# URL to the raw CSV file\n",
        "url = 'https://raw.githubusercontent.com/Amarpreet3/CIND-820-CAPSTONE/main/Sentimental%20Analysis/BitcoinPricePreprocessed.csv'\n",
        "\n",
        "# Read the CSV file from the URL\n",
        "crypto_usd = pd.read_csv(url)\n",
        "\n",
        "# Display the first few rows of the data\n",
        "print(crypto_usd.head())\n",
        "\n"
      ]
    },
    {
      "cell_type": "code",
      "execution_count": 39,
      "metadata": {
        "colab": {
          "base_uri": "https://localhost:8080/"
        },
        "id": "Yk31WHoiqGsS",
        "outputId": "73521408-b667-49f8-ec84-e22bab35c5e0"
      },
      "outputs": [
        {
          "output_type": "stream",
          "name": "stdout",
          "text": [
            "            user_name  user_location  \\\n",
            "0                 Irk  Vancouver, WA   \n",
            "1         Xiang Zhang            NaN   \n",
            "2              Rhizoo            NaN   \n",
            "3        Hari Marquez  Las Vegas, NV   \n",
            "4  Bitcoin Candle Bot         Brazil   \n",
            "\n",
            "                                    user_description         user_created  \\\n",
            "0  Irk started investing in the stock market in 1...  2018-08-11 03:17:00   \n",
            "1  Professional Software Engineer ð»ðCrypto ...  2011-01-11 01:37:00   \n",
            "2  researcher. local maxima dunningâkruger spec...  2019-04-03 18:09:00   \n",
            "3  Donât trust, verify. #Bitcoin | El Salvador ...  2014-01-17 23:04:00   \n",
            "4  Robot that posts the closure of the bitcoin da...  2021-01-06 01:36:00   \n",
            "\n",
            "   user_followers  user_friends  user_favourites  user_verified  \\\n",
            "0           116.0           8.0           4580.0          False   \n",
            "1            42.0          22.0              5.0          False   \n",
            "2           778.0         627.0          32005.0          False   \n",
            "3           222.0         521.0          13052.0          False   \n",
            "4            40.0           4.0              1.0          False   \n",
            "\n",
            "                  date                                               text  \\\n",
            "0  2023-02-25 23:59:00  bitcoin btc rest crypto ye bitcoin cryptocurr ...   \n",
            "1  2023-02-25 23:59:00  retriev invest fund current ongo tidexcoin kic...   \n",
            "2  2023-02-25 23:59:00  bull save monthli thread today good shit bitco...   \n",
            "3  2023-02-25 23:59:00         el salvador shape futur bitcoin membvk32cn   \n",
            "4  2023-02-25 23:59:00  candl day 25022023 close open 2319406 high 232...   \n",
            "\n",
            "                                            hashtags              source  \\\n",
            "0            ['Bitcoin', 'crypto', 'NeedsMoreCrash']     Twitter Web App   \n",
            "1  ['Tidexcoin', 'Kicurrency', 'LMY', 'GMK', 'SYR...  Twitter for iPhone   \n",
            "2                                        ['bitcoin']     Twitter Web App   \n",
            "3                                        ['Bitcoin']     Twitter Web App   \n",
            "4                ['Bitcoin', 'Candle', 'BearMarket']  Bitcoin Candle Bot   \n",
            "\n",
            "   is_retweet  compound         score sentiment_level  polarity  subjectivity  \n",
            "0         0.0   -0.4019 -2.154092e+05        Negative  0.000000      0.000000  \n",
            "1         0.0    0.0000  0.000000e+00         Neutral  0.000000      0.400000  \n",
            "2         0.0    0.3612  9.005682e+06        Positive  0.250000      0.700000  \n",
            "3         0.0    0.0000  0.000000e+00         Neutral  0.000000      0.000000  \n",
            "4         0.0   -0.2732 -2.240240e+01        Negative  0.053333      0.446667  \n"
          ]
        }
      ],
      "source": [
        "import pandas as pd\n",
        "\n",
        "file_urls = [\n",
        "    'https://github.com/Amarpreet3/CIND-820-CAPSTONE/raw/main/Sentimental%20Analysis/BitcoinTweetsPreprocessed_1.csv',\n",
        "    'https://github.com/Amarpreet3/CIND-820-CAPSTONE/raw/main/Sentimental%20Analysis/BitcoinTweetsPreprocessed_2.csv',\n",
        "    'https://github.com/Amarpreet3/CIND-820-CAPSTONE/raw/main/Sentimental%20Analysis/BitcoinTweetsPreprocessed_3.csv',\n",
        "    'https://github.com/Amarpreet3/CIND-820-CAPSTONE/raw/main/Sentimental%20Analysis/BitcoinTweetsPreprocessed_4.csv',\n",
        "    'https://github.com/Amarpreet3/CIND-820-CAPSTONE/raw/main/Sentimental%20Analysis/BitcoinTweetsPreprocessed_5.csv',\n",
        "    'https://github.com/Amarpreet3/CIND-820-CAPSTONE/raw/main/Sentimental%20Analysis/BitcoinTweetsPreprocessed_6.csv'\n",
        "]\n",
        "\n",
        "dfs = []\n",
        "\n",
        "for url in file_urls:\n",
        "    # Read the CSV file\n",
        "    df = pd.read_csv(url)\n",
        "\n",
        "    # Append the DataFrame to the list\n",
        "    dfs.append(df)\n",
        "\n",
        "# Combine all DataFrames into a single DataFrame\n",
        "combined_df = pd.concat(dfs)\n",
        "\n",
        "# Display the first few rows of the combined DataFrame\n",
        "print(combined_df.head())\n"
      ]
    },
    {
      "cell_type": "code",
      "execution_count": 40,
      "metadata": {
        "id": "i667g_S5qW3a"
      },
      "outputs": [],
      "source": [
        "tweets = combined_df.copy()"
      ]
    },
    {
      "cell_type": "code",
      "execution_count": 41,
      "metadata": {
        "colab": {
          "base_uri": "https://localhost:8080/",
          "height": 0
        },
        "id": "fzDfngyol-Op",
        "outputId": "16d3286e-fc51-4c98-f25d-6a10f1819247"
      },
      "outputs": [
        {
          "output_type": "execute_result",
          "data": {
            "text/plain": [
              "            user_name  user_location  \\\n",
              "0                 Irk  Vancouver, WA   \n",
              "1         Xiang Zhang            NaN   \n",
              "2              Rhizoo            NaN   \n",
              "3        Hari Marquez  Las Vegas, NV   \n",
              "4  Bitcoin Candle Bot         Brazil   \n",
              "\n",
              "                                    user_description         user_created  \\\n",
              "0  Irk started investing in the stock market in 1...  2018-08-11 03:17:00   \n",
              "1  Professional Software Engineer ð»ðCrypto ...  2011-01-11 01:37:00   \n",
              "2  researcher. local maxima dunningâkruger spec...  2019-04-03 18:09:00   \n",
              "3  Donât trust, verify. #Bitcoin | El Salvador ...  2014-01-17 23:04:00   \n",
              "4  Robot that posts the closure of the bitcoin da...  2021-01-06 01:36:00   \n",
              "\n",
              "   user_followers  user_friends  user_favourites  user_verified  \\\n",
              "0           116.0           8.0           4580.0          False   \n",
              "1            42.0          22.0              5.0          False   \n",
              "2           778.0         627.0          32005.0          False   \n",
              "3           222.0         521.0          13052.0          False   \n",
              "4            40.0           4.0              1.0          False   \n",
              "\n",
              "                  date                                               text  \\\n",
              "0  2023-02-25 23:59:00  bitcoin btc rest crypto ye bitcoin cryptocurr ...   \n",
              "1  2023-02-25 23:59:00  retriev invest fund current ongo tidexcoin kic...   \n",
              "2  2023-02-25 23:59:00  bull save monthli thread today good shit bitco...   \n",
              "3  2023-02-25 23:59:00         el salvador shape futur bitcoin membvk32cn   \n",
              "4  2023-02-25 23:59:00  candl day 25022023 close open 2319406 high 232...   \n",
              "\n",
              "                                            hashtags              source  \\\n",
              "0            ['Bitcoin', 'crypto', 'NeedsMoreCrash']     Twitter Web App   \n",
              "1  ['Tidexcoin', 'Kicurrency', 'LMY', 'GMK', 'SYR...  Twitter for iPhone   \n",
              "2                                        ['bitcoin']     Twitter Web App   \n",
              "3                                        ['Bitcoin']     Twitter Web App   \n",
              "4                ['Bitcoin', 'Candle', 'BearMarket']  Bitcoin Candle Bot   \n",
              "\n",
              "   is_retweet  compound         score sentiment_level  polarity  subjectivity  \n",
              "0         0.0   -0.4019 -2.154092e+05        Negative  0.000000      0.000000  \n",
              "1         0.0    0.0000  0.000000e+00         Neutral  0.000000      0.400000  \n",
              "2         0.0    0.3612  9.005682e+06        Positive  0.250000      0.700000  \n",
              "3         0.0    0.0000  0.000000e+00         Neutral  0.000000      0.000000  \n",
              "4         0.0   -0.2732 -2.240240e+01        Negative  0.053333      0.446667  "
            ],
            "text/html": [
              "\n",
              "  <div id=\"df-c5684a1e-5606-46e0-9a22-627d0d9adbaa\">\n",
              "    <div class=\"colab-df-container\">\n",
              "      <div>\n",
              "<style scoped>\n",
              "    .dataframe tbody tr th:only-of-type {\n",
              "        vertical-align: middle;\n",
              "    }\n",
              "\n",
              "    .dataframe tbody tr th {\n",
              "        vertical-align: top;\n",
              "    }\n",
              "\n",
              "    .dataframe thead th {\n",
              "        text-align: right;\n",
              "    }\n",
              "</style>\n",
              "<table border=\"1\" class=\"dataframe\">\n",
              "  <thead>\n",
              "    <tr style=\"text-align: right;\">\n",
              "      <th></th>\n",
              "      <th>user_name</th>\n",
              "      <th>user_location</th>\n",
              "      <th>user_description</th>\n",
              "      <th>user_created</th>\n",
              "      <th>user_followers</th>\n",
              "      <th>user_friends</th>\n",
              "      <th>user_favourites</th>\n",
              "      <th>user_verified</th>\n",
              "      <th>date</th>\n",
              "      <th>text</th>\n",
              "      <th>hashtags</th>\n",
              "      <th>source</th>\n",
              "      <th>is_retweet</th>\n",
              "      <th>compound</th>\n",
              "      <th>score</th>\n",
              "      <th>sentiment_level</th>\n",
              "      <th>polarity</th>\n",
              "      <th>subjectivity</th>\n",
              "    </tr>\n",
              "  </thead>\n",
              "  <tbody>\n",
              "    <tr>\n",
              "      <th>0</th>\n",
              "      <td>Irk</td>\n",
              "      <td>Vancouver, WA</td>\n",
              "      <td>Irk started investing in the stock market in 1...</td>\n",
              "      <td>2018-08-11 03:17:00</td>\n",
              "      <td>116.0</td>\n",
              "      <td>8.0</td>\n",
              "      <td>4580.0</td>\n",
              "      <td>False</td>\n",
              "      <td>2023-02-25 23:59:00</td>\n",
              "      <td>bitcoin btc rest crypto ye bitcoin cryptocurr ...</td>\n",
              "      <td>['Bitcoin', 'crypto', 'NeedsMoreCrash']</td>\n",
              "      <td>Twitter Web App</td>\n",
              "      <td>0.0</td>\n",
              "      <td>-0.4019</td>\n",
              "      <td>-2.154092e+05</td>\n",
              "      <td>Negative</td>\n",
              "      <td>0.000000</td>\n",
              "      <td>0.000000</td>\n",
              "    </tr>\n",
              "    <tr>\n",
              "      <th>1</th>\n",
              "      <td>Xiang Zhang</td>\n",
              "      <td>NaN</td>\n",
              "      <td>Professional Software Engineer ð»ðCrypto ...</td>\n",
              "      <td>2011-01-11 01:37:00</td>\n",
              "      <td>42.0</td>\n",
              "      <td>22.0</td>\n",
              "      <td>5.0</td>\n",
              "      <td>False</td>\n",
              "      <td>2023-02-25 23:59:00</td>\n",
              "      <td>retriev invest fund current ongo tidexcoin kic...</td>\n",
              "      <td>['Tidexcoin', 'Kicurrency', 'LMY', 'GMK', 'SYR...</td>\n",
              "      <td>Twitter for iPhone</td>\n",
              "      <td>0.0</td>\n",
              "      <td>0.0000</td>\n",
              "      <td>0.000000e+00</td>\n",
              "      <td>Neutral</td>\n",
              "      <td>0.000000</td>\n",
              "      <td>0.400000</td>\n",
              "    </tr>\n",
              "    <tr>\n",
              "      <th>2</th>\n",
              "      <td>Rhizoo</td>\n",
              "      <td>NaN</td>\n",
              "      <td>researcher. local maxima dunningâkruger spec...</td>\n",
              "      <td>2019-04-03 18:09:00</td>\n",
              "      <td>778.0</td>\n",
              "      <td>627.0</td>\n",
              "      <td>32005.0</td>\n",
              "      <td>False</td>\n",
              "      <td>2023-02-25 23:59:00</td>\n",
              "      <td>bull save monthli thread today good shit bitco...</td>\n",
              "      <td>['bitcoin']</td>\n",
              "      <td>Twitter Web App</td>\n",
              "      <td>0.0</td>\n",
              "      <td>0.3612</td>\n",
              "      <td>9.005682e+06</td>\n",
              "      <td>Positive</td>\n",
              "      <td>0.250000</td>\n",
              "      <td>0.700000</td>\n",
              "    </tr>\n",
              "    <tr>\n",
              "      <th>3</th>\n",
              "      <td>Hari Marquez</td>\n",
              "      <td>Las Vegas, NV</td>\n",
              "      <td>Donât trust, verify. #Bitcoin | El Salvador ...</td>\n",
              "      <td>2014-01-17 23:04:00</td>\n",
              "      <td>222.0</td>\n",
              "      <td>521.0</td>\n",
              "      <td>13052.0</td>\n",
              "      <td>False</td>\n",
              "      <td>2023-02-25 23:59:00</td>\n",
              "      <td>el salvador shape futur bitcoin membvk32cn</td>\n",
              "      <td>['Bitcoin']</td>\n",
              "      <td>Twitter Web App</td>\n",
              "      <td>0.0</td>\n",
              "      <td>0.0000</td>\n",
              "      <td>0.000000e+00</td>\n",
              "      <td>Neutral</td>\n",
              "      <td>0.000000</td>\n",
              "      <td>0.000000</td>\n",
              "    </tr>\n",
              "    <tr>\n",
              "      <th>4</th>\n",
              "      <td>Bitcoin Candle Bot</td>\n",
              "      <td>Brazil</td>\n",
              "      <td>Robot that posts the closure of the bitcoin da...</td>\n",
              "      <td>2021-01-06 01:36:00</td>\n",
              "      <td>40.0</td>\n",
              "      <td>4.0</td>\n",
              "      <td>1.0</td>\n",
              "      <td>False</td>\n",
              "      <td>2023-02-25 23:59:00</td>\n",
              "      <td>candl day 25022023 close open 2319406 high 232...</td>\n",
              "      <td>['Bitcoin', 'Candle', 'BearMarket']</td>\n",
              "      <td>Bitcoin Candle Bot</td>\n",
              "      <td>0.0</td>\n",
              "      <td>-0.2732</td>\n",
              "      <td>-2.240240e+01</td>\n",
              "      <td>Negative</td>\n",
              "      <td>0.053333</td>\n",
              "      <td>0.446667</td>\n",
              "    </tr>\n",
              "  </tbody>\n",
              "</table>\n",
              "</div>\n",
              "      <button class=\"colab-df-convert\" onclick=\"convertToInteractive('df-c5684a1e-5606-46e0-9a22-627d0d9adbaa')\"\n",
              "              title=\"Convert this dataframe to an interactive table.\"\n",
              "              style=\"display:none;\">\n",
              "        \n",
              "  <svg xmlns=\"http://www.w3.org/2000/svg\" height=\"24px\"viewBox=\"0 0 24 24\"\n",
              "       width=\"24px\">\n",
              "    <path d=\"M0 0h24v24H0V0z\" fill=\"none\"/>\n",
              "    <path d=\"M18.56 5.44l.94 2.06.94-2.06 2.06-.94-2.06-.94-.94-2.06-.94 2.06-2.06.94zm-11 1L8.5 8.5l.94-2.06 2.06-.94-2.06-.94L8.5 2.5l-.94 2.06-2.06.94zm10 10l.94 2.06.94-2.06 2.06-.94-2.06-.94-.94-2.06-.94 2.06-2.06.94z\"/><path d=\"M17.41 7.96l-1.37-1.37c-.4-.4-.92-.59-1.43-.59-.52 0-1.04.2-1.43.59L10.3 9.45l-7.72 7.72c-.78.78-.78 2.05 0 2.83L4 21.41c.39.39.9.59 1.41.59.51 0 1.02-.2 1.41-.59l7.78-7.78 2.81-2.81c.8-.78.8-2.07 0-2.86zM5.41 20L4 18.59l7.72-7.72 1.47 1.35L5.41 20z\"/>\n",
              "  </svg>\n",
              "      </button>\n",
              "      \n",
              "  <style>\n",
              "    .colab-df-container {\n",
              "      display:flex;\n",
              "      flex-wrap:wrap;\n",
              "      gap: 12px;\n",
              "    }\n",
              "\n",
              "    .colab-df-convert {\n",
              "      background-color: #E8F0FE;\n",
              "      border: none;\n",
              "      border-radius: 50%;\n",
              "      cursor: pointer;\n",
              "      display: none;\n",
              "      fill: #1967D2;\n",
              "      height: 32px;\n",
              "      padding: 0 0 0 0;\n",
              "      width: 32px;\n",
              "    }\n",
              "\n",
              "    .colab-df-convert:hover {\n",
              "      background-color: #E2EBFA;\n",
              "      box-shadow: 0px 1px 2px rgba(60, 64, 67, 0.3), 0px 1px 3px 1px rgba(60, 64, 67, 0.15);\n",
              "      fill: #174EA6;\n",
              "    }\n",
              "\n",
              "    [theme=dark] .colab-df-convert {\n",
              "      background-color: #3B4455;\n",
              "      fill: #D2E3FC;\n",
              "    }\n",
              "\n",
              "    [theme=dark] .colab-df-convert:hover {\n",
              "      background-color: #434B5C;\n",
              "      box-shadow: 0px 1px 3px 1px rgba(0, 0, 0, 0.15);\n",
              "      filter: drop-shadow(0px 1px 2px rgba(0, 0, 0, 0.3));\n",
              "      fill: #FFFFFF;\n",
              "    }\n",
              "  </style>\n",
              "\n",
              "      <script>\n",
              "        const buttonEl =\n",
              "          document.querySelector('#df-c5684a1e-5606-46e0-9a22-627d0d9adbaa button.colab-df-convert');\n",
              "        buttonEl.style.display =\n",
              "          google.colab.kernel.accessAllowed ? 'block' : 'none';\n",
              "\n",
              "        async function convertToInteractive(key) {\n",
              "          const element = document.querySelector('#df-c5684a1e-5606-46e0-9a22-627d0d9adbaa');\n",
              "          const dataTable =\n",
              "            await google.colab.kernel.invokeFunction('convertToInteractive',\n",
              "                                                     [key], {});\n",
              "          if (!dataTable) return;\n",
              "\n",
              "          const docLinkHtml = 'Like what you see? Visit the ' +\n",
              "            '<a target=\"_blank\" href=https://colab.research.google.com/notebooks/data_table.ipynb>data table notebook</a>'\n",
              "            + ' to learn more about interactive tables.';\n",
              "          element.innerHTML = '';\n",
              "          dataTable['output_type'] = 'display_data';\n",
              "          await google.colab.output.renderOutput(dataTable, element);\n",
              "          const docLink = document.createElement('div');\n",
              "          docLink.innerHTML = docLinkHtml;\n",
              "          element.appendChild(docLink);\n",
              "        }\n",
              "      </script>\n",
              "    </div>\n",
              "  </div>\n",
              "  "
            ]
          },
          "metadata": {},
          "execution_count": 41
        }
      ],
      "source": [
        "tweets.head()"
      ]
    },
    {
      "cell_type": "code",
      "execution_count": 42,
      "metadata": {
        "colab": {
          "base_uri": "https://localhost:8080/"
        },
        "id": "ebW8ujq0mA9S",
        "outputId": "2d98e822-6fcd-4b12-cae9-86eac5430866"
      },
      "outputs": [
        {
          "output_type": "stream",
          "name": "stdout",
          "text": [
            "Index(['user_name', 'user_location', 'user_description', 'user_created',\n",
            "       'user_followers', 'user_friends', 'user_favourites', 'user_verified',\n",
            "       'date', 'text', 'hashtags', 'source', 'is_retweet', 'compound', 'score',\n",
            "       'sentiment_level', 'polarity', 'subjectivity'],\n",
            "      dtype='object')\n"
          ]
        }
      ],
      "source": [
        "print(tweets.columns)"
      ]
    },
    {
      "cell_type": "code",
      "execution_count": 43,
      "metadata": {
        "colab": {
          "base_uri": "https://localhost:8080/"
        },
        "id": "e8a4O-LcmDV5",
        "outputId": "94a190fa-c1ef-445f-cec0-3e8bc5981862"
      },
      "outputs": [
        {
          "output_type": "stream",
          "name": "stdout",
          "text": [
            "Shape of the dataset: (167652, 18)\n",
            "Size of the dataset (number of elements): 3017736\n"
          ]
        }
      ],
      "source": [
        "import pandas as pd\n",
        "\n",
        "\n",
        "# Check the shape of the dataset\n",
        "print(\"Shape of the dataset:\", tweets.shape)\n",
        "\n",
        "# Check the size of the dataset\n",
        "print(\"Size of the dataset (number of elements):\",tweets.size)\n"
      ]
    },
    {
      "cell_type": "code",
      "execution_count": 44,
      "metadata": {
        "colab": {
          "base_uri": "https://localhost:8080/"
        },
        "id": "iESjvi7jmOMA",
        "outputId": "09fcfca8-f229-4c61-bdf9-fd7b49bed51a"
      },
      "outputs": [
        {
          "output_type": "stream",
          "name": "stdout",
          "text": [
            "Shape of the data: (167652, 18)\n"
          ]
        }
      ],
      "source": [
        "import pandas as pd\n",
        "import os\n",
        "\n",
        "\n",
        "# Check the shape of the data\n",
        "print(\"Shape of the data:\", tweets.shape)\n",
        "\n"
      ]
    },
    {
      "cell_type": "code",
      "execution_count": 45,
      "metadata": {
        "colab": {
          "base_uri": "https://localhost:8080/"
        },
        "id": "rlDhbF14mmR7",
        "outputId": "a9e9ffb8-86c9-43c1-91b0-9b36ee981502"
      },
      "outputs": [
        {
          "output_type": "stream",
          "name": "stdout",
          "text": [
            "Neutral             93169\n",
            "Positive            35921\n",
            "Extreme Positive    17343\n",
            "Negative            15903\n",
            "Extreme Negative     5316\n",
            "Name: sentiment_level, dtype: int64\n"
          ]
        }
      ],
      "source": [
        "label_counts = tweets['sentiment_level'].value_counts()\n",
        "print(label_counts)"
      ]
    },
    {
      "cell_type": "markdown",
      "metadata": {
        "id": "DsCrx9DLC_Kn"
      },
      "source": [
        "#Classification on Sentiment Prediction"
      ]
    },
    {
      "cell_type": "code",
      "execution_count": 46,
      "metadata": {
        "colab": {
          "base_uri": "https://localhost:8080/",
          "height": 0
        },
        "id": "PXAx4FlTEDAD",
        "outputId": "ed3053ca-3be4-4e7a-b9ae-63b6ea80e65a"
      },
      "outputs": [
        {
          "output_type": "execute_result",
          "data": {
            "text/plain": [
              "                  time     close      high       low      open  volumefrom  \\\n",
              "0  2023-02-19 13:00:00  24682.03  24715.82  24682.03  24707.39      903.97   \n",
              "1  2023-02-19 14:00:00  24765.79  24792.85  24679.21  24682.03     1220.29   \n",
              "\n",
              "      volumeto        Date      Time       volume     marketcap  price_delta  \n",
              "0  22335943.28  2023-02-19  13:00:00  22335039.31  5.512964e+11          NaN  \n",
              "1  30203001.55  2023-02-19  14:00:00  30201781.26  7.480012e+11        83.76  "
            ],
            "text/html": [
              "\n",
              "  <div id=\"df-567cfeca-59a5-4c40-a2c0-3c275484d9da\">\n",
              "    <div class=\"colab-df-container\">\n",
              "      <div>\n",
              "<style scoped>\n",
              "    .dataframe tbody tr th:only-of-type {\n",
              "        vertical-align: middle;\n",
              "    }\n",
              "\n",
              "    .dataframe tbody tr th {\n",
              "        vertical-align: top;\n",
              "    }\n",
              "\n",
              "    .dataframe thead th {\n",
              "        text-align: right;\n",
              "    }\n",
              "</style>\n",
              "<table border=\"1\" class=\"dataframe\">\n",
              "  <thead>\n",
              "    <tr style=\"text-align: right;\">\n",
              "      <th></th>\n",
              "      <th>time</th>\n",
              "      <th>close</th>\n",
              "      <th>high</th>\n",
              "      <th>low</th>\n",
              "      <th>open</th>\n",
              "      <th>volumefrom</th>\n",
              "      <th>volumeto</th>\n",
              "      <th>Date</th>\n",
              "      <th>Time</th>\n",
              "      <th>volume</th>\n",
              "      <th>marketcap</th>\n",
              "      <th>price_delta</th>\n",
              "    </tr>\n",
              "  </thead>\n",
              "  <tbody>\n",
              "    <tr>\n",
              "      <th>0</th>\n",
              "      <td>2023-02-19 13:00:00</td>\n",
              "      <td>24682.03</td>\n",
              "      <td>24715.82</td>\n",
              "      <td>24682.03</td>\n",
              "      <td>24707.39</td>\n",
              "      <td>903.97</td>\n",
              "      <td>22335943.28</td>\n",
              "      <td>2023-02-19</td>\n",
              "      <td>13:00:00</td>\n",
              "      <td>22335039.31</td>\n",
              "      <td>5.512964e+11</td>\n",
              "      <td>NaN</td>\n",
              "    </tr>\n",
              "    <tr>\n",
              "      <th>1</th>\n",
              "      <td>2023-02-19 14:00:00</td>\n",
              "      <td>24765.79</td>\n",
              "      <td>24792.85</td>\n",
              "      <td>24679.21</td>\n",
              "      <td>24682.03</td>\n",
              "      <td>1220.29</td>\n",
              "      <td>30203001.55</td>\n",
              "      <td>2023-02-19</td>\n",
              "      <td>14:00:00</td>\n",
              "      <td>30201781.26</td>\n",
              "      <td>7.480012e+11</td>\n",
              "      <td>83.76</td>\n",
              "    </tr>\n",
              "  </tbody>\n",
              "</table>\n",
              "</div>\n",
              "      <button class=\"colab-df-convert\" onclick=\"convertToInteractive('df-567cfeca-59a5-4c40-a2c0-3c275484d9da')\"\n",
              "              title=\"Convert this dataframe to an interactive table.\"\n",
              "              style=\"display:none;\">\n",
              "        \n",
              "  <svg xmlns=\"http://www.w3.org/2000/svg\" height=\"24px\"viewBox=\"0 0 24 24\"\n",
              "       width=\"24px\">\n",
              "    <path d=\"M0 0h24v24H0V0z\" fill=\"none\"/>\n",
              "    <path d=\"M18.56 5.44l.94 2.06.94-2.06 2.06-.94-2.06-.94-.94-2.06-.94 2.06-2.06.94zm-11 1L8.5 8.5l.94-2.06 2.06-.94-2.06-.94L8.5 2.5l-.94 2.06-2.06.94zm10 10l.94 2.06.94-2.06 2.06-.94-2.06-.94-.94-2.06-.94 2.06-2.06.94z\"/><path d=\"M17.41 7.96l-1.37-1.37c-.4-.4-.92-.59-1.43-.59-.52 0-1.04.2-1.43.59L10.3 9.45l-7.72 7.72c-.78.78-.78 2.05 0 2.83L4 21.41c.39.39.9.59 1.41.59.51 0 1.02-.2 1.41-.59l7.78-7.78 2.81-2.81c.8-.78.8-2.07 0-2.86zM5.41 20L4 18.59l7.72-7.72 1.47 1.35L5.41 20z\"/>\n",
              "  </svg>\n",
              "      </button>\n",
              "      \n",
              "  <style>\n",
              "    .colab-df-container {\n",
              "      display:flex;\n",
              "      flex-wrap:wrap;\n",
              "      gap: 12px;\n",
              "    }\n",
              "\n",
              "    .colab-df-convert {\n",
              "      background-color: #E8F0FE;\n",
              "      border: none;\n",
              "      border-radius: 50%;\n",
              "      cursor: pointer;\n",
              "      display: none;\n",
              "      fill: #1967D2;\n",
              "      height: 32px;\n",
              "      padding: 0 0 0 0;\n",
              "      width: 32px;\n",
              "    }\n",
              "\n",
              "    .colab-df-convert:hover {\n",
              "      background-color: #E2EBFA;\n",
              "      box-shadow: 0px 1px 2px rgba(60, 64, 67, 0.3), 0px 1px 3px 1px rgba(60, 64, 67, 0.15);\n",
              "      fill: #174EA6;\n",
              "    }\n",
              "\n",
              "    [theme=dark] .colab-df-convert {\n",
              "      background-color: #3B4455;\n",
              "      fill: #D2E3FC;\n",
              "    }\n",
              "\n",
              "    [theme=dark] .colab-df-convert:hover {\n",
              "      background-color: #434B5C;\n",
              "      box-shadow: 0px 1px 3px 1px rgba(0, 0, 0, 0.15);\n",
              "      filter: drop-shadow(0px 1px 2px rgba(0, 0, 0, 0.3));\n",
              "      fill: #FFFFFF;\n",
              "    }\n",
              "  </style>\n",
              "\n",
              "      <script>\n",
              "        const buttonEl =\n",
              "          document.querySelector('#df-567cfeca-59a5-4c40-a2c0-3c275484d9da button.colab-df-convert');\n",
              "        buttonEl.style.display =\n",
              "          google.colab.kernel.accessAllowed ? 'block' : 'none';\n",
              "\n",
              "        async function convertToInteractive(key) {\n",
              "          const element = document.querySelector('#df-567cfeca-59a5-4c40-a2c0-3c275484d9da');\n",
              "          const dataTable =\n",
              "            await google.colab.kernel.invokeFunction('convertToInteractive',\n",
              "                                                     [key], {});\n",
              "          if (!dataTable) return;\n",
              "\n",
              "          const docLinkHtml = 'Like what you see? Visit the ' +\n",
              "            '<a target=\"_blank\" href=https://colab.research.google.com/notebooks/data_table.ipynb>data table notebook</a>'\n",
              "            + ' to learn more about interactive tables.';\n",
              "          element.innerHTML = '';\n",
              "          dataTable['output_type'] = 'display_data';\n",
              "          await google.colab.output.renderOutput(dataTable, element);\n",
              "          const docLink = document.createElement('div');\n",
              "          docLink.innerHTML = docLinkHtml;\n",
              "          element.appendChild(docLink);\n",
              "        }\n",
              "      </script>\n",
              "    </div>\n",
              "  </div>\n",
              "  "
            ]
          },
          "metadata": {},
          "execution_count": 46
        }
      ],
      "source": [
        "# Create a copy of the bitcoin price DataFrame\n",
        "crypto_usd.head(2)"
      ]
    },
    {
      "cell_type": "code",
      "execution_count": 47,
      "metadata": {
        "colab": {
          "base_uri": "https://localhost:8080/"
        },
        "id": "uAQGvHMjJSc1",
        "outputId": "b61d3ae1-729b-48a9-884c-cdfa8a2e2ba9"
      },
      "outputs": [
        {
          "output_type": "stream",
          "name": "stdout",
          "text": [
            "Index(['time', 'close', 'high', 'low', 'open', 'volumefrom', 'volumeto',\n",
            "       'Date', 'Time', 'volume', 'marketcap', 'price_delta'],\n",
            "      dtype='object')\n"
          ]
        }
      ],
      "source": [
        "print(crypto_usd.columns)"
      ]
    },
    {
      "cell_type": "code",
      "source": [
        "df_score = tweets.copy()"
      ],
      "metadata": {
        "id": "glcZI_XBQnk0"
      },
      "execution_count": 48,
      "outputs": []
    },
    {
      "cell_type": "code",
      "source": [
        "import pandas as pd\n",
        "import numpy as np\n",
        "\n",
        "# Define custom bin edges based on quantiles\n",
        "bin_edges = np.linspace(df_score['compound'].min(), df_score['compound'].max(), num=6)  # Adjust the 'num' parameter as needed\n",
        "\n",
        "# Define labels\n",
        "labels = ['Extreme Negative', 'Negative', 'Neutral', 'Positive', 'Extreme Positive']\n",
        "\n",
        "# Calculate average compound score for each sentiment level\n",
        "sentiment_scores = []\n",
        "for i in range(len(bin_edges)-1):\n",
        "    lower_bound = bin_edges[i]\n",
        "    upper_bound = bin_edges[i+1]\n",
        "    scores_in_range = df_score[(df_score['compound'] >= lower_bound) & (df_score['compound'] < upper_bound)]['compound']\n",
        "    sentiment_scores.append(scores_in_range.mean())\n",
        "\n",
        "# Map sentiment levels to numerical values with scores\n",
        "sentiment_mapping = {label: score for label, score in zip(labels, sentiment_scores)}\n",
        "df_score['sentiment_score'] = df_score['sentiment_level'].map(sentiment_mapping)\n",
        "\n",
        "# Save the updated dataframe as a new CSV file\n",
        "df_score.to_csv('updated_sentiment_data.csv', index=False)\n"
      ],
      "metadata": {
        "id": "j3xSHwr_SJGS"
      },
      "execution_count": 49,
      "outputs": []
    },
    {
      "cell_type": "code",
      "execution_count": 50,
      "metadata": {
        "colab": {
          "base_uri": "https://localhost:8080/",
          "height": 0
        },
        "id": "tpgNRZ5vD8oT",
        "outputId": "d8fbf8b5-8a71-4b0b-b86e-965c349956b7"
      },
      "outputs": [
        {
          "output_type": "execute_result",
          "data": {
            "text/plain": [
              "     user_name  user_location  \\\n",
              "0          Irk  Vancouver, WA   \n",
              "1  Xiang Zhang            NaN   \n",
              "\n",
              "                                    user_description         user_created  \\\n",
              "0  Irk started investing in the stock market in 1...  2018-08-11 03:17:00   \n",
              "1  Professional Software Engineer ð»ðCrypto ...  2011-01-11 01:37:00   \n",
              "\n",
              "   user_followers  user_friends  user_favourites  user_verified  \\\n",
              "0           116.0           8.0           4580.0          False   \n",
              "1            42.0          22.0              5.0          False   \n",
              "\n",
              "                  date                                               text  \\\n",
              "0  2023-02-25 23:59:00  bitcoin btc rest crypto ye bitcoin cryptocurr ...   \n",
              "1  2023-02-25 23:59:00  retriev invest fund current ongo tidexcoin kic...   \n",
              "\n",
              "                                            hashtags              source  \\\n",
              "0            ['Bitcoin', 'crypto', 'NeedsMoreCrash']     Twitter Web App   \n",
              "1  ['Tidexcoin', 'Kicurrency', 'LMY', 'GMK', 'SYR...  Twitter for iPhone   \n",
              "\n",
              "   is_retweet  compound        score sentiment_level  polarity  subjectivity  \\\n",
              "0         0.0   -0.4019 -215409.1563        Negative       0.0           0.0   \n",
              "1         0.0    0.0000       0.0000         Neutral       0.0           0.4   \n",
              "\n",
              "   sentiment_score  \n",
              "0        -0.368049  \n",
              "1         0.000385  "
            ],
            "text/html": [
              "\n",
              "  <div id=\"df-12381385-8606-4b74-991a-bd5d653093c4\">\n",
              "    <div class=\"colab-df-container\">\n",
              "      <div>\n",
              "<style scoped>\n",
              "    .dataframe tbody tr th:only-of-type {\n",
              "        vertical-align: middle;\n",
              "    }\n",
              "\n",
              "    .dataframe tbody tr th {\n",
              "        vertical-align: top;\n",
              "    }\n",
              "\n",
              "    .dataframe thead th {\n",
              "        text-align: right;\n",
              "    }\n",
              "</style>\n",
              "<table border=\"1\" class=\"dataframe\">\n",
              "  <thead>\n",
              "    <tr style=\"text-align: right;\">\n",
              "      <th></th>\n",
              "      <th>user_name</th>\n",
              "      <th>user_location</th>\n",
              "      <th>user_description</th>\n",
              "      <th>user_created</th>\n",
              "      <th>user_followers</th>\n",
              "      <th>user_friends</th>\n",
              "      <th>user_favourites</th>\n",
              "      <th>user_verified</th>\n",
              "      <th>date</th>\n",
              "      <th>text</th>\n",
              "      <th>hashtags</th>\n",
              "      <th>source</th>\n",
              "      <th>is_retweet</th>\n",
              "      <th>compound</th>\n",
              "      <th>score</th>\n",
              "      <th>sentiment_level</th>\n",
              "      <th>polarity</th>\n",
              "      <th>subjectivity</th>\n",
              "      <th>sentiment_score</th>\n",
              "    </tr>\n",
              "  </thead>\n",
              "  <tbody>\n",
              "    <tr>\n",
              "      <th>0</th>\n",
              "      <td>Irk</td>\n",
              "      <td>Vancouver, WA</td>\n",
              "      <td>Irk started investing in the stock market in 1...</td>\n",
              "      <td>2018-08-11 03:17:00</td>\n",
              "      <td>116.0</td>\n",
              "      <td>8.0</td>\n",
              "      <td>4580.0</td>\n",
              "      <td>False</td>\n",
              "      <td>2023-02-25 23:59:00</td>\n",
              "      <td>bitcoin btc rest crypto ye bitcoin cryptocurr ...</td>\n",
              "      <td>['Bitcoin', 'crypto', 'NeedsMoreCrash']</td>\n",
              "      <td>Twitter Web App</td>\n",
              "      <td>0.0</td>\n",
              "      <td>-0.4019</td>\n",
              "      <td>-215409.1563</td>\n",
              "      <td>Negative</td>\n",
              "      <td>0.0</td>\n",
              "      <td>0.0</td>\n",
              "      <td>-0.368049</td>\n",
              "    </tr>\n",
              "    <tr>\n",
              "      <th>1</th>\n",
              "      <td>Xiang Zhang</td>\n",
              "      <td>NaN</td>\n",
              "      <td>Professional Software Engineer ð»ðCrypto ...</td>\n",
              "      <td>2011-01-11 01:37:00</td>\n",
              "      <td>42.0</td>\n",
              "      <td>22.0</td>\n",
              "      <td>5.0</td>\n",
              "      <td>False</td>\n",
              "      <td>2023-02-25 23:59:00</td>\n",
              "      <td>retriev invest fund current ongo tidexcoin kic...</td>\n",
              "      <td>['Tidexcoin', 'Kicurrency', 'LMY', 'GMK', 'SYR...</td>\n",
              "      <td>Twitter for iPhone</td>\n",
              "      <td>0.0</td>\n",
              "      <td>0.0000</td>\n",
              "      <td>0.0000</td>\n",
              "      <td>Neutral</td>\n",
              "      <td>0.0</td>\n",
              "      <td>0.4</td>\n",
              "      <td>0.000385</td>\n",
              "    </tr>\n",
              "  </tbody>\n",
              "</table>\n",
              "</div>\n",
              "      <button class=\"colab-df-convert\" onclick=\"convertToInteractive('df-12381385-8606-4b74-991a-bd5d653093c4')\"\n",
              "              title=\"Convert this dataframe to an interactive table.\"\n",
              "              style=\"display:none;\">\n",
              "        \n",
              "  <svg xmlns=\"http://www.w3.org/2000/svg\" height=\"24px\"viewBox=\"0 0 24 24\"\n",
              "       width=\"24px\">\n",
              "    <path d=\"M0 0h24v24H0V0z\" fill=\"none\"/>\n",
              "    <path d=\"M18.56 5.44l.94 2.06.94-2.06 2.06-.94-2.06-.94-.94-2.06-.94 2.06-2.06.94zm-11 1L8.5 8.5l.94-2.06 2.06-.94-2.06-.94L8.5 2.5l-.94 2.06-2.06.94zm10 10l.94 2.06.94-2.06 2.06-.94-2.06-.94-.94-2.06-.94 2.06-2.06.94z\"/><path d=\"M17.41 7.96l-1.37-1.37c-.4-.4-.92-.59-1.43-.59-.52 0-1.04.2-1.43.59L10.3 9.45l-7.72 7.72c-.78.78-.78 2.05 0 2.83L4 21.41c.39.39.9.59 1.41.59.51 0 1.02-.2 1.41-.59l7.78-7.78 2.81-2.81c.8-.78.8-2.07 0-2.86zM5.41 20L4 18.59l7.72-7.72 1.47 1.35L5.41 20z\"/>\n",
              "  </svg>\n",
              "      </button>\n",
              "      \n",
              "  <style>\n",
              "    .colab-df-container {\n",
              "      display:flex;\n",
              "      flex-wrap:wrap;\n",
              "      gap: 12px;\n",
              "    }\n",
              "\n",
              "    .colab-df-convert {\n",
              "      background-color: #E8F0FE;\n",
              "      border: none;\n",
              "      border-radius: 50%;\n",
              "      cursor: pointer;\n",
              "      display: none;\n",
              "      fill: #1967D2;\n",
              "      height: 32px;\n",
              "      padding: 0 0 0 0;\n",
              "      width: 32px;\n",
              "    }\n",
              "\n",
              "    .colab-df-convert:hover {\n",
              "      background-color: #E2EBFA;\n",
              "      box-shadow: 0px 1px 2px rgba(60, 64, 67, 0.3), 0px 1px 3px 1px rgba(60, 64, 67, 0.15);\n",
              "      fill: #174EA6;\n",
              "    }\n",
              "\n",
              "    [theme=dark] .colab-df-convert {\n",
              "      background-color: #3B4455;\n",
              "      fill: #D2E3FC;\n",
              "    }\n",
              "\n",
              "    [theme=dark] .colab-df-convert:hover {\n",
              "      background-color: #434B5C;\n",
              "      box-shadow: 0px 1px 3px 1px rgba(0, 0, 0, 0.15);\n",
              "      filter: drop-shadow(0px 1px 2px rgba(0, 0, 0, 0.3));\n",
              "      fill: #FFFFFF;\n",
              "    }\n",
              "  </style>\n",
              "\n",
              "      <script>\n",
              "        const buttonEl =\n",
              "          document.querySelector('#df-12381385-8606-4b74-991a-bd5d653093c4 button.colab-df-convert');\n",
              "        buttonEl.style.display =\n",
              "          google.colab.kernel.accessAllowed ? 'block' : 'none';\n",
              "\n",
              "        async function convertToInteractive(key) {\n",
              "          const element = document.querySelector('#df-12381385-8606-4b74-991a-bd5d653093c4');\n",
              "          const dataTable =\n",
              "            await google.colab.kernel.invokeFunction('convertToInteractive',\n",
              "                                                     [key], {});\n",
              "          if (!dataTable) return;\n",
              "\n",
              "          const docLinkHtml = 'Like what you see? Visit the ' +\n",
              "            '<a target=\"_blank\" href=https://colab.research.google.com/notebooks/data_table.ipynb>data table notebook</a>'\n",
              "            + ' to learn more about interactive tables.';\n",
              "          element.innerHTML = '';\n",
              "          dataTable['output_type'] = 'display_data';\n",
              "          await google.colab.output.renderOutput(dataTable, element);\n",
              "          const docLink = document.createElement('div');\n",
              "          docLink.innerHTML = docLinkHtml;\n",
              "          element.appendChild(docLink);\n",
              "        }\n",
              "      </script>\n",
              "    </div>\n",
              "  </div>\n",
              "  "
            ]
          },
          "metadata": {},
          "execution_count": 50
        }
      ],
      "source": [
        "# Create a copy of the  bitcoin tweets DataFrame\n",
        "df_tweets = pd.read_csv('/content/updated_sentiment_data.csv')\n",
        "df_tweets.head(2)"
      ]
    },
    {
      "cell_type": "code",
      "execution_count": 51,
      "metadata": {
        "id": "FI5tZc4Y2EBx"
      },
      "outputs": [],
      "source": [
        "# Merge the tweet data with the Bitcoin price data\n",
        "tweets_df = pd.merge(df_tweets, crypto_usd, left_on='date', right_on='time', how='inner')"
      ]
    },
    {
      "cell_type": "code",
      "execution_count": 52,
      "metadata": {
        "colab": {
          "base_uri": "https://localhost:8080/"
        },
        "id": "i2sNum_sIkRk",
        "outputId": "d2e66110-3785-453c-df15-f6ca7102f220"
      },
      "outputs": [
        {
          "output_type": "stream",
          "name": "stdout",
          "text": [
            "Index(['user_name', 'user_location', 'user_description', 'user_created',\n",
            "       'user_followers', 'user_friends', 'user_favourites', 'user_verified',\n",
            "       'date', 'text', 'hashtags', 'source', 'is_retweet', 'compound', 'score',\n",
            "       'sentiment_level', 'polarity', 'subjectivity', 'sentiment_score',\n",
            "       'time', 'close', 'high', 'low', 'open', 'volumefrom', 'volumeto',\n",
            "       'Date', 'Time', 'volume', 'marketcap', 'price_delta'],\n",
            "      dtype='object')\n"
          ]
        }
      ],
      "source": [
        "print(tweets_df.columns)\n"
      ]
    },
    {
      "cell_type": "code",
      "source": [
        "tweets_df.info()"
      ],
      "metadata": {
        "colab": {
          "base_uri": "https://localhost:8080/"
        },
        "id": "tyHN9r5SUgbt",
        "outputId": "7bda34fa-2340-4662-be91-8d2ad2be533e"
      },
      "execution_count": 53,
      "outputs": [
        {
          "output_type": "stream",
          "name": "stdout",
          "text": [
            "<class 'pandas.core.frame.DataFrame'>\n",
            "Int64Index: 7898 entries, 0 to 7897\n",
            "Data columns (total 31 columns):\n",
            " #   Column            Non-Null Count  Dtype  \n",
            "---  ------            --------------  -----  \n",
            " 0   user_name         7898 non-null   object \n",
            " 1   user_location     3898 non-null   object \n",
            " 2   user_description  7620 non-null   object \n",
            " 3   user_created      7898 non-null   object \n",
            " 4   user_followers    7898 non-null   float64\n",
            " 5   user_friends      7898 non-null   float64\n",
            " 6   user_favourites   7898 non-null   float64\n",
            " 7   user_verified     7898 non-null   bool   \n",
            " 8   date              7898 non-null   object \n",
            " 9   text              7898 non-null   object \n",
            " 10  hashtags          7891 non-null   object \n",
            " 11  source            7891 non-null   object \n",
            " 12  is_retweet        7891 non-null   float64\n",
            " 13  compound          7898 non-null   float64\n",
            " 14  score             7898 non-null   float64\n",
            " 15  sentiment_level   7898 non-null   object \n",
            " 16  polarity          7898 non-null   float64\n",
            " 17  subjectivity      7898 non-null   float64\n",
            " 18  sentiment_score   7898 non-null   float64\n",
            " 19  time              7898 non-null   object \n",
            " 20  close             7898 non-null   float64\n",
            " 21  high              7898 non-null   float64\n",
            " 22  low               7898 non-null   float64\n",
            " 23  open              7898 non-null   float64\n",
            " 24  volumefrom        7898 non-null   float64\n",
            " 25  volumeto          7898 non-null   float64\n",
            " 26  Date              7898 non-null   object \n",
            " 27  Time              7898 non-null   object \n",
            " 28  volume            7898 non-null   float64\n",
            " 29  marketcap         7898 non-null   float64\n",
            " 30  price_delta       7898 non-null   float64\n",
            "dtypes: bool(1), float64(18), object(12)\n",
            "memory usage: 1.9+ MB\n"
          ]
        }
      ]
    },
    {
      "cell_type": "code",
      "source": [
        "import pandas as pd\n",
        "from sklearn.feature_extraction.text import CountVectorizer\n",
        "from sklearn.model_selection import train_test_split\n",
        "from sklearn.linear_model import LinearRegression\n",
        "from sklearn.metrics import mean_squared_error, classification_report\n",
        "from scipy.sparse import hstack\n",
        "\n",
        "# Feature Extraction: Unigrams\n",
        "unigram_vectorizer = CountVectorizer(ngram_range=(1, 1))\n",
        "unigram_features = unigram_vectorizer.fit_transform(tweets_df['text'])\n",
        "\n",
        "# Feature Extraction: Bigrams\n",
        "bigram_vectorizer = CountVectorizer(ngram_range=(2, 2))\n",
        "bigram_features = bigram_vectorizer.fit_transform(tweets_df['text'])\n",
        "\n",
        "# Combining Features\n",
        "combined_features = hstack([unigram_features, bigram_features])\n",
        "\n",
        "# Additional Input Features\n",
        "additional_features = tweets_df[['compound', 'score', 'polarity', 'subjectivity', 'sentiment_score']].values\n",
        "\n",
        "# Concatenate Additional Features with Combined Features\n",
        "X = hstack([combined_features, additional_features])\n",
        "\n",
        "# Target Variable\n",
        "y = tweets_df['close']\n",
        "\n",
        "# Split the data into training and testing sets\n",
        "X_train, X_test, y_train, y_test = train_test_split(X, y, test_size=0.2, random_state=42)\n",
        "\n",
        "\n"
      ],
      "metadata": {
        "id": "VWY-iJ9KbNMF"
      },
      "execution_count": 54,
      "outputs": []
    },
    {
      "cell_type": "code",
      "execution_count": 55,
      "metadata": {
        "colab": {
          "base_uri": "https://localhost:8080/"
        },
        "id": "HiyhjngLHy8M",
        "outputId": "dec2769f-987a-4db5-f149-2baa966cffe2"
      },
      "outputs": [
        {
          "output_type": "stream",
          "name": "stdout",
          "text": [
            "[[0 0 0 ... 0 0 0]\n",
            " [0 0 0 ... 0 0 0]\n",
            " [0 0 0 ... 0 0 0]\n",
            " ...\n",
            " [0 0 0 ... 0 0 0]\n",
            " [0 0 0 ... 0 0 0]\n",
            " [0 0 0 ... 0 0 0]]\n"
          ]
        }
      ],
      "source": [
        "import numpy as np\n",
        "\n",
        "# Print the first 10 rows of the term frequency matrix\n",
        "print(combined_features[:10].toarray())\n"
      ]
    },
    {
      "cell_type": "markdown",
      "source": [
        "#Linear Regression"
      ],
      "metadata": {
        "id": "ePVaO3VmjuHw"
      }
    },
    {
      "cell_type": "code",
      "source": [
        "from sklearn.linear_model import LinearRegression\n",
        "from sklearn.metrics import mean_squared_error, accuracy_score, precision_score, recall_score, f1_score\n",
        "\n",
        "# Train the linear regression model\n",
        "model = LinearRegression()\n"
      ],
      "metadata": {
        "id": "j4wHg7QeoCOp"
      },
      "execution_count": 56,
      "outputs": []
    },
    {
      "cell_type": "code",
      "source": [
        "\n",
        "model.fit(X_train, y_train)\n",
        "\n",
        "# Make predictions on the test set\n",
        "y_pred = model.predict(X_test)\n",
        "\n",
        "# Evaluate the model\n",
        "mse = mean_squared_error(y_test, y_pred)\n",
        "r2 = r2_score(y_test, y_pred)\n",
        "mae = mean_absolute_error(y_test, y_pred)\n",
        "rmse = np.sqrt(mse)\n",
        "\n",
        "print(\"Mean Squared Error:\", mse)\n",
        "print(\"R-squared:\", r2)\n",
        "print(\"Mean Absolute Error:\", mae)\n",
        "print(\"Root Mean Squared Error:\", rmse)\n",
        "\n",
        "# Use the trained model for future predictions\n",
        "new_tweet = [\"New tweet about Bitcoin\"]\n",
        "new_tweet_features = hstack([unigram_vectorizer.transform(new_tweet), bigram_vectorizer.transform(new_tweet), additional_features[:len(new_tweet)]])\n",
        "predicted_close = model.predict(new_tweet_features)\n",
        "\n",
        "print(\"Predicted Close Price:\", predicted_close)\n"
      ],
      "metadata": {
        "colab": {
          "base_uri": "https://localhost:8080/"
        },
        "id": "6f1zju1toNk0",
        "outputId": "db31e8ee-0898-4a82-a2ce-4e656617b465"
      },
      "execution_count": 57,
      "outputs": [
        {
          "output_type": "stream",
          "name": "stdout",
          "text": [
            "Mean Squared Error: 263642.15720830334\n",
            "R-squared: -0.00027683995676786033\n",
            "Mean Absolute Error: 434.52422429092474\n",
            "Root Mean Squared Error: 513.460959770364\n",
            "Predicted Close Price: [23131.47449878]\n"
          ]
        }
      ]
    },
    {
      "cell_type": "markdown",
      "source": [
        "#Decision Tree Regressor"
      ],
      "metadata": {
        "id": "CEuoDFo8n-JU"
      }
    },
    {
      "cell_type": "code",
      "source": [
        "from sklearn.tree import DecisionTreeRegressor\n",
        "from sklearn.metrics import mean_squared_error, r2_score, mean_absolute_error\n",
        "\n",
        "# Train the decision tree regressor model\n",
        "model = DecisionTreeRegressor()\n",
        "\n"
      ],
      "metadata": {
        "id": "zWymkKOPkR6x"
      },
      "execution_count": 60,
      "outputs": []
    },
    {
      "cell_type": "code",
      "source": [
        "model.fit(X_train, y_train)\n",
        "\n",
        "# Make predictions on the test set\n",
        "y_pred = model.predict(X_test)\n",
        "\n",
        "# Evaluate the model\n",
        "mse = mean_squared_error(y_test, y_pred)\n",
        "r2 = r2_score(y_test, y_pred)\n",
        "mae = mean_absolute_error(y_test, y_pred)\n",
        "rmse = np.sqrt(mse)\n",
        "print(\"Model:\", model)\n",
        "print(\"Mean Squared Error:\", mse)\n",
        "print(\"R-squared:\", r2)\n",
        "print(\"Mean Absolute Error:\", mae)\n",
        "print(\"Root Mean Squared Error:\", rmse)\n",
        "\n",
        "# Use the trained model for future predictions\n",
        "new_tweet = [\"New tweet about Bitcoin\"]\n",
        "new_tweet_features = hstack([unigram_vectorizer.transform(new_tweet), bigram_vectorizer.transform(new_tweet), additional_features[:len(new_tweet)]])\n",
        "predicted_close = model.predict(new_tweet_features)\n",
        "\n",
        "print(\"Predicted Close Price:\", predicted_close)"
      ],
      "metadata": {
        "colab": {
          "base_uri": "https://localhost:8080/"
        },
        "id": "WAuncnntpCPC",
        "outputId": "dbd0815a-4b3b-44ff-cf2e-b9084ea98b48"
      },
      "execution_count": 61,
      "outputs": [
        {
          "output_type": "stream",
          "name": "stdout",
          "text": [
            "Model: DecisionTreeRegressor()\n",
            "Mean Squared Error: 325581.8862629271\n",
            "R-squared: -0.23528051729955868\n",
            "Mean Absolute Error: 367.69651582278533\n",
            "Root Mean Squared Error: 570.5978323328324\n",
            "Predicted Close Price: [23447.51]\n"
          ]
        }
      ]
    },
    {
      "cell_type": "markdown",
      "source": [
        "#Random Forest Regressor"
      ],
      "metadata": {
        "id": "TE9ZiX5-od04"
      }
    },
    {
      "cell_type": "code",
      "source": [
        "from sklearn.ensemble import RandomForestRegressor\n",
        "# Rest of the code is the same as above\n",
        "model = RandomForestRegressor()\n",
        "\n"
      ],
      "metadata": {
        "id": "mfI-72qdommO"
      },
      "execution_count": null,
      "outputs": []
    },
    {
      "cell_type": "code",
      "source": [
        "model.fit(X_train, y_train)\n",
        "\n",
        "# Make predictions on the test set\n",
        "y_pred = model.predict(X_test)\n",
        "\n",
        "# Evaluate the model\n",
        "mse = mean_squared_error(y_test, y_pred)\n",
        "r2 = r2_score(y_test, y_pred)\n",
        "mae = mean_absolute_error(y_test, y_pred)\n",
        "rmse = np.sqrt(mse)\n",
        "print(\"Model:\", model)\n",
        "print(\"Mean Squared Error:\", mse)\n",
        "print(\"R-squared:\", r2)\n",
        "print(\"Mean Absolute Error:\", mae)\n",
        "print(\"Root Mean Squared Error:\", rmse)\n",
        "\n",
        "# Use the trained model for future predictions\n",
        "new_tweet = [\"New tweet about Bitcoin\"]\n",
        "new_tweet_features = hstack([unigram_vectorizer.transform(new_tweet), bigram_vectorizer.transform(new_tweet), additional_features[:len(new_tweet)]])\n",
        "predicted_close = model.predict(new_tweet_features)\n",
        "\n",
        "print(\"Predicted Close Price:\", predicted_close)"
      ],
      "metadata": {
        "colab": {
          "base_uri": "https://localhost:8080/",
          "height": 395
        },
        "id": "Ghnb7N9bpFph",
        "outputId": "68b5c26e-c7e7-4185-be5e-c7d647703a5f"
      },
      "execution_count": null,
      "outputs": [
        {
          "output_type": "error",
          "ename": "KeyboardInterrupt",
          "evalue": "ignored",
          "traceback": [
            "\u001b[0;31m---------------------------------------------------------------------------\u001b[0m",
            "\u001b[0;31mKeyboardInterrupt\u001b[0m                         Traceback (most recent call last)",
            "\u001b[0;32m<ipython-input-36-2904cfbe420d>\u001b[0m in \u001b[0;36m<cell line: 1>\u001b[0;34m()\u001b[0m\n\u001b[0;32m----> 1\u001b[0;31m \u001b[0mmodel\u001b[0m\u001b[0;34m.\u001b[0m\u001b[0mfit\u001b[0m\u001b[0;34m(\u001b[0m\u001b[0mX_train\u001b[0m\u001b[0;34m,\u001b[0m \u001b[0my_train\u001b[0m\u001b[0;34m)\u001b[0m\u001b[0;34m\u001b[0m\u001b[0;34m\u001b[0m\u001b[0m\n\u001b[0m\u001b[1;32m      2\u001b[0m \u001b[0;34m\u001b[0m\u001b[0m\n\u001b[1;32m      3\u001b[0m \u001b[0;31m# Make predictions on the test set\u001b[0m\u001b[0;34m\u001b[0m\u001b[0;34m\u001b[0m\u001b[0m\n\u001b[1;32m      4\u001b[0m \u001b[0my_pred\u001b[0m \u001b[0;34m=\u001b[0m \u001b[0mmodel\u001b[0m\u001b[0;34m.\u001b[0m\u001b[0mpredict\u001b[0m\u001b[0;34m(\u001b[0m\u001b[0mX_test\u001b[0m\u001b[0;34m)\u001b[0m\u001b[0;34m\u001b[0m\u001b[0;34m\u001b[0m\u001b[0m\n\u001b[1;32m      5\u001b[0m \u001b[0;34m\u001b[0m\u001b[0m\n",
            "\u001b[0;32m/usr/local/lib/python3.10/dist-packages/sklearn/ensemble/_forest.py\u001b[0m in \u001b[0;36mfit\u001b[0;34m(self, X, y, sample_weight)\u001b[0m\n\u001b[1;32m    471\u001b[0m             \u001b[0;31m# parallel_backend contexts set at a higher level,\u001b[0m\u001b[0;34m\u001b[0m\u001b[0;34m\u001b[0m\u001b[0m\n\u001b[1;32m    472\u001b[0m             \u001b[0;31m# since correctness does not rely on using threads.\u001b[0m\u001b[0;34m\u001b[0m\u001b[0;34m\u001b[0m\u001b[0m\n\u001b[0;32m--> 473\u001b[0;31m             trees = Parallel(\n\u001b[0m\u001b[1;32m    474\u001b[0m                 \u001b[0mn_jobs\u001b[0m\u001b[0;34m=\u001b[0m\u001b[0mself\u001b[0m\u001b[0;34m.\u001b[0m\u001b[0mn_jobs\u001b[0m\u001b[0;34m,\u001b[0m\u001b[0;34m\u001b[0m\u001b[0;34m\u001b[0m\u001b[0m\n\u001b[1;32m    475\u001b[0m                 \u001b[0mverbose\u001b[0m\u001b[0;34m=\u001b[0m\u001b[0mself\u001b[0m\u001b[0;34m.\u001b[0m\u001b[0mverbose\u001b[0m\u001b[0;34m,\u001b[0m\u001b[0;34m\u001b[0m\u001b[0;34m\u001b[0m\u001b[0m\n",
            "\u001b[0;32m/usr/local/lib/python3.10/dist-packages/sklearn/utils/parallel.py\u001b[0m in \u001b[0;36m__call__\u001b[0;34m(self, iterable)\u001b[0m\n\u001b[1;32m     61\u001b[0m             \u001b[0;32mfor\u001b[0m \u001b[0mdelayed_func\u001b[0m\u001b[0;34m,\u001b[0m \u001b[0margs\u001b[0m\u001b[0;34m,\u001b[0m \u001b[0mkwargs\u001b[0m \u001b[0;32min\u001b[0m \u001b[0miterable\u001b[0m\u001b[0;34m\u001b[0m\u001b[0;34m\u001b[0m\u001b[0m\n\u001b[1;32m     62\u001b[0m         )\n\u001b[0;32m---> 63\u001b[0;31m         \u001b[0;32mreturn\u001b[0m \u001b[0msuper\u001b[0m\u001b[0;34m(\u001b[0m\u001b[0;34m)\u001b[0m\u001b[0;34m.\u001b[0m\u001b[0m__call__\u001b[0m\u001b[0;34m(\u001b[0m\u001b[0miterable_with_config\u001b[0m\u001b[0;34m)\u001b[0m\u001b[0;34m\u001b[0m\u001b[0;34m\u001b[0m\u001b[0m\n\u001b[0m\u001b[1;32m     64\u001b[0m \u001b[0;34m\u001b[0m\u001b[0m\n\u001b[1;32m     65\u001b[0m \u001b[0;34m\u001b[0m\u001b[0m\n",
            "\u001b[0;32m/usr/local/lib/python3.10/dist-packages/joblib/parallel.py\u001b[0m in \u001b[0;36m__call__\u001b[0;34m(self, iterable)\u001b[0m\n\u001b[1;32m   1086\u001b[0m                 \u001b[0mself\u001b[0m\u001b[0;34m.\u001b[0m\u001b[0m_iterating\u001b[0m \u001b[0;34m=\u001b[0m \u001b[0mself\u001b[0m\u001b[0;34m.\u001b[0m\u001b[0m_original_iterator\u001b[0m \u001b[0;32mis\u001b[0m \u001b[0;32mnot\u001b[0m \u001b[0;32mNone\u001b[0m\u001b[0;34m\u001b[0m\u001b[0;34m\u001b[0m\u001b[0m\n\u001b[1;32m   1087\u001b[0m \u001b[0;34m\u001b[0m\u001b[0m\n\u001b[0;32m-> 1088\u001b[0;31m             \u001b[0;32mwhile\u001b[0m \u001b[0mself\u001b[0m\u001b[0;34m.\u001b[0m\u001b[0mdispatch_one_batch\u001b[0m\u001b[0;34m(\u001b[0m\u001b[0miterator\u001b[0m\u001b[0;34m)\u001b[0m\u001b[0;34m:\u001b[0m\u001b[0;34m\u001b[0m\u001b[0;34m\u001b[0m\u001b[0m\n\u001b[0m\u001b[1;32m   1089\u001b[0m                 \u001b[0;32mpass\u001b[0m\u001b[0;34m\u001b[0m\u001b[0;34m\u001b[0m\u001b[0m\n\u001b[1;32m   1090\u001b[0m \u001b[0;34m\u001b[0m\u001b[0m\n",
            "\u001b[0;32m/usr/local/lib/python3.10/dist-packages/joblib/parallel.py\u001b[0m in \u001b[0;36mdispatch_one_batch\u001b[0;34m(self, iterator)\u001b[0m\n\u001b[1;32m    899\u001b[0m                 \u001b[0;32mreturn\u001b[0m \u001b[0;32mFalse\u001b[0m\u001b[0;34m\u001b[0m\u001b[0;34m\u001b[0m\u001b[0m\n\u001b[1;32m    900\u001b[0m             \u001b[0;32melse\u001b[0m\u001b[0;34m:\u001b[0m\u001b[0;34m\u001b[0m\u001b[0;34m\u001b[0m\u001b[0m\n\u001b[0;32m--> 901\u001b[0;31m                 \u001b[0mself\u001b[0m\u001b[0;34m.\u001b[0m\u001b[0m_dispatch\u001b[0m\u001b[0;34m(\u001b[0m\u001b[0mtasks\u001b[0m\u001b[0;34m)\u001b[0m\u001b[0;34m\u001b[0m\u001b[0;34m\u001b[0m\u001b[0m\n\u001b[0m\u001b[1;32m    902\u001b[0m                 \u001b[0;32mreturn\u001b[0m \u001b[0;32mTrue\u001b[0m\u001b[0;34m\u001b[0m\u001b[0;34m\u001b[0m\u001b[0m\n\u001b[1;32m    903\u001b[0m \u001b[0;34m\u001b[0m\u001b[0m\n",
            "\u001b[0;32m/usr/local/lib/python3.10/dist-packages/joblib/parallel.py\u001b[0m in \u001b[0;36m_dispatch\u001b[0;34m(self, batch)\u001b[0m\n\u001b[1;32m    817\u001b[0m         \u001b[0;32mwith\u001b[0m \u001b[0mself\u001b[0m\u001b[0;34m.\u001b[0m\u001b[0m_lock\u001b[0m\u001b[0;34m:\u001b[0m\u001b[0;34m\u001b[0m\u001b[0;34m\u001b[0m\u001b[0m\n\u001b[1;32m    818\u001b[0m             \u001b[0mjob_idx\u001b[0m \u001b[0;34m=\u001b[0m \u001b[0mlen\u001b[0m\u001b[0;34m(\u001b[0m\u001b[0mself\u001b[0m\u001b[0;34m.\u001b[0m\u001b[0m_jobs\u001b[0m\u001b[0;34m)\u001b[0m\u001b[0;34m\u001b[0m\u001b[0;34m\u001b[0m\u001b[0m\n\u001b[0;32m--> 819\u001b[0;31m             \u001b[0mjob\u001b[0m \u001b[0;34m=\u001b[0m \u001b[0mself\u001b[0m\u001b[0;34m.\u001b[0m\u001b[0m_backend\u001b[0m\u001b[0;34m.\u001b[0m\u001b[0mapply_async\u001b[0m\u001b[0;34m(\u001b[0m\u001b[0mbatch\u001b[0m\u001b[0;34m,\u001b[0m \u001b[0mcallback\u001b[0m\u001b[0;34m=\u001b[0m\u001b[0mcb\u001b[0m\u001b[0;34m)\u001b[0m\u001b[0;34m\u001b[0m\u001b[0;34m\u001b[0m\u001b[0m\n\u001b[0m\u001b[1;32m    820\u001b[0m             \u001b[0;31m# A job can complete so quickly than its callback is\u001b[0m\u001b[0;34m\u001b[0m\u001b[0;34m\u001b[0m\u001b[0m\n\u001b[1;32m    821\u001b[0m             \u001b[0;31m# called before we get here, causing self._jobs to\u001b[0m\u001b[0;34m\u001b[0m\u001b[0;34m\u001b[0m\u001b[0m\n",
            "\u001b[0;32m/usr/local/lib/python3.10/dist-packages/joblib/_parallel_backends.py\u001b[0m in \u001b[0;36mapply_async\u001b[0;34m(self, func, callback)\u001b[0m\n\u001b[1;32m    206\u001b[0m     \u001b[0;32mdef\u001b[0m \u001b[0mapply_async\u001b[0m\u001b[0;34m(\u001b[0m\u001b[0mself\u001b[0m\u001b[0;34m,\u001b[0m \u001b[0mfunc\u001b[0m\u001b[0;34m,\u001b[0m \u001b[0mcallback\u001b[0m\u001b[0;34m=\u001b[0m\u001b[0;32mNone\u001b[0m\u001b[0;34m)\u001b[0m\u001b[0;34m:\u001b[0m\u001b[0;34m\u001b[0m\u001b[0;34m\u001b[0m\u001b[0m\n\u001b[1;32m    207\u001b[0m         \u001b[0;34m\"\"\"Schedule a func to be run\"\"\"\u001b[0m\u001b[0;34m\u001b[0m\u001b[0;34m\u001b[0m\u001b[0m\n\u001b[0;32m--> 208\u001b[0;31m         \u001b[0mresult\u001b[0m \u001b[0;34m=\u001b[0m \u001b[0mImmediateResult\u001b[0m\u001b[0;34m(\u001b[0m\u001b[0mfunc\u001b[0m\u001b[0;34m)\u001b[0m\u001b[0;34m\u001b[0m\u001b[0;34m\u001b[0m\u001b[0m\n\u001b[0m\u001b[1;32m    209\u001b[0m         \u001b[0;32mif\u001b[0m \u001b[0mcallback\u001b[0m\u001b[0;34m:\u001b[0m\u001b[0;34m\u001b[0m\u001b[0;34m\u001b[0m\u001b[0m\n\u001b[1;32m    210\u001b[0m             \u001b[0mcallback\u001b[0m\u001b[0;34m(\u001b[0m\u001b[0mresult\u001b[0m\u001b[0;34m)\u001b[0m\u001b[0;34m\u001b[0m\u001b[0;34m\u001b[0m\u001b[0m\n",
            "\u001b[0;32m/usr/local/lib/python3.10/dist-packages/joblib/_parallel_backends.py\u001b[0m in \u001b[0;36m__init__\u001b[0;34m(self, batch)\u001b[0m\n\u001b[1;32m    595\u001b[0m         \u001b[0;31m# Don't delay the application, to avoid keeping the input\u001b[0m\u001b[0;34m\u001b[0m\u001b[0;34m\u001b[0m\u001b[0m\n\u001b[1;32m    596\u001b[0m         \u001b[0;31m# arguments in memory\u001b[0m\u001b[0;34m\u001b[0m\u001b[0;34m\u001b[0m\u001b[0m\n\u001b[0;32m--> 597\u001b[0;31m         \u001b[0mself\u001b[0m\u001b[0;34m.\u001b[0m\u001b[0mresults\u001b[0m \u001b[0;34m=\u001b[0m \u001b[0mbatch\u001b[0m\u001b[0;34m(\u001b[0m\u001b[0;34m)\u001b[0m\u001b[0;34m\u001b[0m\u001b[0;34m\u001b[0m\u001b[0m\n\u001b[0m\u001b[1;32m    598\u001b[0m \u001b[0;34m\u001b[0m\u001b[0m\n\u001b[1;32m    599\u001b[0m     \u001b[0;32mdef\u001b[0m \u001b[0mget\u001b[0m\u001b[0;34m(\u001b[0m\u001b[0mself\u001b[0m\u001b[0;34m)\u001b[0m\u001b[0;34m:\u001b[0m\u001b[0;34m\u001b[0m\u001b[0;34m\u001b[0m\u001b[0m\n",
            "\u001b[0;32m/usr/local/lib/python3.10/dist-packages/joblib/parallel.py\u001b[0m in \u001b[0;36m__call__\u001b[0;34m(self)\u001b[0m\n\u001b[1;32m    286\u001b[0m         \u001b[0;31m# change the default number of processes to -1\u001b[0m\u001b[0;34m\u001b[0m\u001b[0;34m\u001b[0m\u001b[0m\n\u001b[1;32m    287\u001b[0m         \u001b[0;32mwith\u001b[0m \u001b[0mparallel_backend\u001b[0m\u001b[0;34m(\u001b[0m\u001b[0mself\u001b[0m\u001b[0;34m.\u001b[0m\u001b[0m_backend\u001b[0m\u001b[0;34m,\u001b[0m \u001b[0mn_jobs\u001b[0m\u001b[0;34m=\u001b[0m\u001b[0mself\u001b[0m\u001b[0;34m.\u001b[0m\u001b[0m_n_jobs\u001b[0m\u001b[0;34m)\u001b[0m\u001b[0;34m:\u001b[0m\u001b[0;34m\u001b[0m\u001b[0;34m\u001b[0m\u001b[0m\n\u001b[0;32m--> 288\u001b[0;31m             return [func(*args, **kwargs)\n\u001b[0m\u001b[1;32m    289\u001b[0m                     for func, args, kwargs in self.items]\n\u001b[1;32m    290\u001b[0m \u001b[0;34m\u001b[0m\u001b[0m\n",
            "\u001b[0;32m/usr/local/lib/python3.10/dist-packages/joblib/parallel.py\u001b[0m in \u001b[0;36m<listcomp>\u001b[0;34m(.0)\u001b[0m\n\u001b[1;32m    286\u001b[0m         \u001b[0;31m# change the default number of processes to -1\u001b[0m\u001b[0;34m\u001b[0m\u001b[0;34m\u001b[0m\u001b[0m\n\u001b[1;32m    287\u001b[0m         \u001b[0;32mwith\u001b[0m \u001b[0mparallel_backend\u001b[0m\u001b[0;34m(\u001b[0m\u001b[0mself\u001b[0m\u001b[0;34m.\u001b[0m\u001b[0m_backend\u001b[0m\u001b[0;34m,\u001b[0m \u001b[0mn_jobs\u001b[0m\u001b[0;34m=\u001b[0m\u001b[0mself\u001b[0m\u001b[0;34m.\u001b[0m\u001b[0m_n_jobs\u001b[0m\u001b[0;34m)\u001b[0m\u001b[0;34m:\u001b[0m\u001b[0;34m\u001b[0m\u001b[0;34m\u001b[0m\u001b[0m\n\u001b[0;32m--> 288\u001b[0;31m             return [func(*args, **kwargs)\n\u001b[0m\u001b[1;32m    289\u001b[0m                     for func, args, kwargs in self.items]\n\u001b[1;32m    290\u001b[0m \u001b[0;34m\u001b[0m\u001b[0m\n",
            "\u001b[0;32m/usr/local/lib/python3.10/dist-packages/sklearn/utils/parallel.py\u001b[0m in \u001b[0;36m__call__\u001b[0;34m(self, *args, **kwargs)\u001b[0m\n\u001b[1;32m    121\u001b[0m             \u001b[0mconfig\u001b[0m \u001b[0;34m=\u001b[0m \u001b[0;34m{\u001b[0m\u001b[0;34m}\u001b[0m\u001b[0;34m\u001b[0m\u001b[0;34m\u001b[0m\u001b[0m\n\u001b[1;32m    122\u001b[0m         \u001b[0;32mwith\u001b[0m \u001b[0mconfig_context\u001b[0m\u001b[0;34m(\u001b[0m\u001b[0;34m**\u001b[0m\u001b[0mconfig\u001b[0m\u001b[0;34m)\u001b[0m\u001b[0;34m:\u001b[0m\u001b[0;34m\u001b[0m\u001b[0;34m\u001b[0m\u001b[0m\n\u001b[0;32m--> 123\u001b[0;31m             \u001b[0;32mreturn\u001b[0m \u001b[0mself\u001b[0m\u001b[0;34m.\u001b[0m\u001b[0mfunction\u001b[0m\u001b[0;34m(\u001b[0m\u001b[0;34m*\u001b[0m\u001b[0margs\u001b[0m\u001b[0;34m,\u001b[0m \u001b[0;34m**\u001b[0m\u001b[0mkwargs\u001b[0m\u001b[0;34m)\u001b[0m\u001b[0;34m\u001b[0m\u001b[0;34m\u001b[0m\u001b[0m\n\u001b[0m",
            "\u001b[0;32m/usr/local/lib/python3.10/dist-packages/sklearn/ensemble/_forest.py\u001b[0m in \u001b[0;36m_parallel_build_trees\u001b[0;34m(tree, bootstrap, X, y, sample_weight, tree_idx, n_trees, verbose, class_weight, n_samples_bootstrap)\u001b[0m\n\u001b[1;32m    182\u001b[0m             \u001b[0mcurr_sample_weight\u001b[0m \u001b[0;34m*=\u001b[0m \u001b[0mcompute_sample_weight\u001b[0m\u001b[0;34m(\u001b[0m\u001b[0;34m\"balanced\"\u001b[0m\u001b[0;34m,\u001b[0m \u001b[0my\u001b[0m\u001b[0;34m,\u001b[0m \u001b[0mindices\u001b[0m\u001b[0;34m=\u001b[0m\u001b[0mindices\u001b[0m\u001b[0;34m)\u001b[0m\u001b[0;34m\u001b[0m\u001b[0;34m\u001b[0m\u001b[0m\n\u001b[1;32m    183\u001b[0m \u001b[0;34m\u001b[0m\u001b[0m\n\u001b[0;32m--> 184\u001b[0;31m         \u001b[0mtree\u001b[0m\u001b[0;34m.\u001b[0m\u001b[0mfit\u001b[0m\u001b[0;34m(\u001b[0m\u001b[0mX\u001b[0m\u001b[0;34m,\u001b[0m \u001b[0my\u001b[0m\u001b[0;34m,\u001b[0m \u001b[0msample_weight\u001b[0m\u001b[0;34m=\u001b[0m\u001b[0mcurr_sample_weight\u001b[0m\u001b[0;34m,\u001b[0m \u001b[0mcheck_input\u001b[0m\u001b[0;34m=\u001b[0m\u001b[0;32mFalse\u001b[0m\u001b[0;34m)\u001b[0m\u001b[0;34m\u001b[0m\u001b[0;34m\u001b[0m\u001b[0m\n\u001b[0m\u001b[1;32m    185\u001b[0m     \u001b[0;32melse\u001b[0m\u001b[0;34m:\u001b[0m\u001b[0;34m\u001b[0m\u001b[0;34m\u001b[0m\u001b[0m\n\u001b[1;32m    186\u001b[0m         \u001b[0mtree\u001b[0m\u001b[0;34m.\u001b[0m\u001b[0mfit\u001b[0m\u001b[0;34m(\u001b[0m\u001b[0mX\u001b[0m\u001b[0;34m,\u001b[0m \u001b[0my\u001b[0m\u001b[0;34m,\u001b[0m \u001b[0msample_weight\u001b[0m\u001b[0;34m=\u001b[0m\u001b[0msample_weight\u001b[0m\u001b[0;34m,\u001b[0m \u001b[0mcheck_input\u001b[0m\u001b[0;34m=\u001b[0m\u001b[0;32mFalse\u001b[0m\u001b[0;34m)\u001b[0m\u001b[0;34m\u001b[0m\u001b[0;34m\u001b[0m\u001b[0m\n",
            "\u001b[0;32m/usr/local/lib/python3.10/dist-packages/sklearn/tree/_classes.py\u001b[0m in \u001b[0;36mfit\u001b[0;34m(self, X, y, sample_weight, check_input)\u001b[0m\n\u001b[1;32m   1245\u001b[0m         \"\"\"\n\u001b[1;32m   1246\u001b[0m \u001b[0;34m\u001b[0m\u001b[0m\n\u001b[0;32m-> 1247\u001b[0;31m         super().fit(\n\u001b[0m\u001b[1;32m   1248\u001b[0m             \u001b[0mX\u001b[0m\u001b[0;34m,\u001b[0m\u001b[0;34m\u001b[0m\u001b[0;34m\u001b[0m\u001b[0m\n\u001b[1;32m   1249\u001b[0m             \u001b[0my\u001b[0m\u001b[0;34m,\u001b[0m\u001b[0;34m\u001b[0m\u001b[0;34m\u001b[0m\u001b[0m\n",
            "\u001b[0;32m/usr/local/lib/python3.10/dist-packages/sklearn/tree/_classes.py\u001b[0m in \u001b[0;36mfit\u001b[0;34m(self, X, y, sample_weight, check_input)\u001b[0m\n\u001b[1;32m    377\u001b[0m             )\n\u001b[1;32m    378\u001b[0m \u001b[0;34m\u001b[0m\u001b[0m\n\u001b[0;32m--> 379\u001b[0;31m         \u001b[0mbuilder\u001b[0m\u001b[0;34m.\u001b[0m\u001b[0mbuild\u001b[0m\u001b[0;34m(\u001b[0m\u001b[0mself\u001b[0m\u001b[0;34m.\u001b[0m\u001b[0mtree_\u001b[0m\u001b[0;34m,\u001b[0m \u001b[0mX\u001b[0m\u001b[0;34m,\u001b[0m \u001b[0my\u001b[0m\u001b[0;34m,\u001b[0m \u001b[0msample_weight\u001b[0m\u001b[0;34m)\u001b[0m\u001b[0;34m\u001b[0m\u001b[0;34m\u001b[0m\u001b[0m\n\u001b[0m\u001b[1;32m    380\u001b[0m \u001b[0;34m\u001b[0m\u001b[0m\n\u001b[1;32m    381\u001b[0m         \u001b[0;32mif\u001b[0m \u001b[0mself\u001b[0m\u001b[0;34m.\u001b[0m\u001b[0mn_outputs_\u001b[0m \u001b[0;34m==\u001b[0m \u001b[0;36m1\u001b[0m \u001b[0;32mand\u001b[0m \u001b[0mis_classifier\u001b[0m\u001b[0;34m(\u001b[0m\u001b[0mself\u001b[0m\u001b[0;34m)\u001b[0m\u001b[0;34m:\u001b[0m\u001b[0;34m\u001b[0m\u001b[0;34m\u001b[0m\u001b[0m\n",
            "\u001b[0;31mKeyboardInterrupt\u001b[0m: "
          ]
        }
      ]
    },
    {
      "cell_type": "markdown",
      "source": [
        "#Support Vector Regressor"
      ],
      "metadata": {
        "id": "CD-skOdro3Bf"
      }
    },
    {
      "cell_type": "code",
      "source": [
        "from sklearn.svm import SVR\n",
        "\n",
        "model = SVR()"
      ],
      "metadata": {
        "id": "Kg-jSY2LosTe"
      },
      "execution_count": 64,
      "outputs": []
    },
    {
      "cell_type": "code",
      "source": [
        "model.fit(X_train, y_train)\n",
        "\n",
        "# Make predictions on the test set\n",
        "y_pred = model.predict(X_test)\n",
        "\n",
        "# Evaluate the model\n",
        "mse = mean_squared_error(y_test, y_pred)\n",
        "r2 = r2_score(y_test, y_pred)\n",
        "mae = mean_absolute_error(y_test, y_pred)\n",
        "rmse = np.sqrt(mse)\n",
        "print(\"Model:\", model)\n",
        "print(\"Mean Squared Error:\", mse)\n",
        "print(\"R-squared:\", r2)\n",
        "print(\"Mean Absolute Error:\", mae)\n",
        "print(\"Root Mean Squared Error:\", rmse)\n",
        "\n",
        "# Use the trained model for future predictions\n",
        "new_tweet = [\"New tweet about Bitcoin\"]\n",
        "new_tweet_features = hstack([unigram_vectorizer.transform(new_tweet), bigram_vectorizer.transform(new_tweet), additional_features[:len(new_tweet)]])\n",
        "predicted_close = model.predict(new_tweet_features)\n",
        "\n",
        "print(\"Predicted Close Price:\", predicted_close)"
      ],
      "metadata": {
        "colab": {
          "base_uri": "https://localhost:8080/"
        },
        "id": "pcFgR_5apHBn",
        "outputId": "f7fd643e-9f72-4776-f5cf-f8b30a375894"
      },
      "execution_count": 65,
      "outputs": [
        {
          "output_type": "stream",
          "name": "stdout",
          "text": [
            "Model: SVR()\n",
            "Mean Squared Error: 297238.96105083235\n",
            "R-squared: -0.12774547067996522\n",
            "Mean Absolute Error: 399.9472665866779\n",
            "Root Mean Squared Error: 545.1962592047311\n",
            "Predicted Close Price: [23312.32985827]\n"
          ]
        }
      ]
    },
    {
      "cell_type": "markdown",
      "source": [
        "#Gradient Boosting Regressor"
      ],
      "metadata": {
        "id": "4HBoeb40o4RB"
      }
    },
    {
      "cell_type": "code",
      "source": [
        "from sklearn.ensemble import GradientBoostingRegressor\n",
        "\n",
        "model = GradientBoostingRegressor()"
      ],
      "metadata": {
        "id": "U5jWP6CiovF-"
      },
      "execution_count": null,
      "outputs": []
    },
    {
      "cell_type": "code",
      "source": [
        "model.fit(X_train, y_train)\n",
        "\n",
        "# Make predictions on the test set\n",
        "y_pred = model.predict(X_test)\n",
        "\n",
        "# Evaluate the model\n",
        "mse = mean_squared_error(y_test, y_pred)\n",
        "r2 = r2_score(y_test, y_pred)\n",
        "mae = mean_absolute_error(y_test, y_pred)\n",
        "rmse = np.sqrt(mse)\n",
        "print(\"Model:\", model)\n",
        "print(\"Mean Squared Error:\", mse)\n",
        "print(\"R-squared:\", r2)\n",
        "print(\"Mean Absolute Error:\", mae)\n",
        "print(\"Root Mean Squared Error:\", rmse)\n",
        "\n",
        "# Use the trained model for future predictions\n",
        "new_tweet = [\"New tweet about Bitcoin\"]\n",
        "new_tweet_features = hstack([unigram_vectorizer.transform(new_tweet), bigram_vectorizer.transform(new_tweet), additional_features[:len(new_tweet)]])\n",
        "predicted_close = model.predict(new_tweet_features)\n",
        "\n",
        "print(\"Predicted Close Price:\", predicted_close)"
      ],
      "metadata": {
        "colab": {
          "base_uri": "https://localhost:8080/"
        },
        "id": "E84qdLvJpH2O",
        "outputId": "22c32751-b897-43aa-ebf2-b733f6ad8e42"
      },
      "execution_count": null,
      "outputs": [
        {
          "output_type": "stream",
          "name": "stdout",
          "text": [
            "Model: GradientBoostingRegressor()\n",
            "Mean Squared Error: 218696.609271123\n",
            "R-squared: 0.1702497220194601\n",
            "Mean Absolute Error: 378.01895230564764\n",
            "Root Mean Squared Error: 467.650092773564\n",
            "Predicted Close Price: [23144.45192473]\n"
          ]
        }
      ]
    },
    {
      "cell_type": "markdown",
      "source": [
        "#Neural Network Regressor (MLP)"
      ],
      "metadata": {
        "id": "Icfzeylxo7-X"
      }
    },
    {
      "cell_type": "code",
      "source": [
        "from sklearn.neural_network import MLPRegressor\n",
        "\n",
        "model = MLPRegressor()"
      ],
      "metadata": {
        "id": "Blq7Ejnjoww7"
      },
      "execution_count": null,
      "outputs": []
    },
    {
      "cell_type": "code",
      "source": [
        "model.fit(X_train, y_train)\n",
        "\n",
        "# Make predictions on the test set\n",
        "y_pred = model.predict(X_test)\n",
        "\n",
        "# Evaluate the model\n",
        "mse = mean_squared_error(y_test, y_pred)\n",
        "r2 = r2_score(y_test, y_pred)\n",
        "mae = mean_absolute_error(y_test, y_pred)\n",
        "rmse = np.sqrt(mse)\n",
        "print(\"Model:\", model)\n",
        "print(\"Mean Squared Error:\", mse)\n",
        "print(\"R-squared:\", r2)\n",
        "print(\"Mean Absolute Error:\", mae)\n",
        "print(\"Root Mean Squared Error:\", rmse)\n",
        "\n",
        "# Use the trained model for future predictions\n",
        "new_tweet = [\"New tweet about Bitcoin\"]\n",
        "new_tweet_features = hstack([unigram_vectorizer.transform(new_tweet), bigram_vectorizer.transform(new_tweet), additional_features[:len(new_tweet)]])\n",
        "predicted_close = model.predict(new_tweet_features)\n",
        "\n",
        "print(\"Predicted Close Price:\", predicted_close)"
      ],
      "metadata": {
        "colab": {
          "base_uri": "https://localhost:8080/"
        },
        "id": "Ti4jnNdKpIrG",
        "outputId": "a69d465e-8d87-48ae-8dd7-c90e7a850937"
      },
      "execution_count": null,
      "outputs": [
        {
          "output_type": "stream",
          "name": "stdout",
          "text": [
            "Model: MLPRegressor()\n",
            "Mean Squared Error: 7854622940160.388\n",
            "R-squared: -29800989.466892306\n",
            "Mean Absolute Error: 163820.52388593878\n",
            "Root Mean Squared Error: 2802610.02284663\n",
            "Predicted Close Price: [1.81115869]\n"
          ]
        },
        {
          "output_type": "stream",
          "name": "stderr",
          "text": [
            "/usr/local/lib/python3.10/dist-packages/sklearn/neural_network/_multilayer_perceptron.py:693: UserWarning: Training interrupted by user.\n",
            "  warnings.warn(\"Training interrupted by user.\")\n"
          ]
        }
      ]
    },
    {
      "cell_type": "markdown",
      "source": [
        "#All Models Together for comparison"
      ],
      "metadata": {
        "id": "nB4wvHdunh5y"
      }
    },
    {
      "cell_type": "code",
      "source": [
        "import pandas as pd\n",
        "from sklearn.linear_model import LinearRegression\n",
        "from sklearn.tree import DecisionTreeRegressor\n",
        "from sklearn.ensemble import RandomForestRegressor\n",
        "from sklearn.svm import SVR\n",
        "from sklearn.ensemble import GradientBoostingRegressor\n",
        "from sklearn.neural_network import MLPRegressor\n",
        "from sklearn.metrics import mean_squared_error, r2_score, mean_absolute_error\n",
        "from scipy.sparse import hstack\n",
        "\n",
        "# Define the models\n",
        "models = {\n",
        "    \"Linear Regression\": LinearRegression(),\n",
        "    \"Decision Tree Regressor\": DecisionTreeRegressor(),\n",
        "    \"Random Forest Regressor\": RandomForestRegressor(),\n",
        "    \"Support Vector Regressor\": SVR(),\n",
        "    \"Gradient Boosting Regressor\": GradientBoostingRegressor(),\n",
        "    \"Neural Network Regressor\": MLPRegressor()\n",
        "}\n",
        "\n",
        "# Initialize an empty dictionary to store the results\n",
        "results = {}\n",
        "\n",
        "# Iterate over the models\n",
        "for model_name, model in models.items():\n",
        "    # Train the model\n",
        "    model.fit(X_train, y_train)\n",
        "\n",
        "    # Make predictions on the test set\n",
        "    y_pred = model.predict(X_test)\n",
        "\n",
        "    # Evaluate the model\n",
        "    mse = mean_squared_error(y_test, y_pred)\n",
        "    r2 = r2_score(y_test, y_pred)\n",
        "    mae = mean_absolute_error(y_test, y_pred)\n",
        "    rmse = np.sqrt(mse)\n",
        "\n",
        "    # Store the results in the dictionary\n",
        "    results[model_name] = {\n",
        "        \"Mean Squared Error\": mse,\n",
        "        \"R-squared\": r2,\n",
        "        \"Mean Absolute Error\": mae,\n",
        "        \"Root Mean Squared Error\": rmse\n",
        "    }\n",
        "\n",
        "    # Use the trained model for future predictions\n",
        "    new_tweet = [\"New tweet about Bitcoin\"]\n",
        "    new_tweet_features = hstack([unigram_vectorizer.transform(new_tweet), bigram_vectorizer.transform(new_tweet), additional_features[:len(new_tweet)]])\n",
        "    predicted_close = model.predict(new_tweet_features)\n",
        "\n",
        "    results[model_name][\"Predicted Close Price\"] = predicted_close\n",
        "\n",
        "# Convert the results to a pandas DataFrame for tabular representation\n",
        "results_df = pd.DataFrame.from_dict(results, orient=\"index\")\n",
        "\n",
        "# Print the results\n",
        "print(results_df)\n"
      ],
      "metadata": {
        "id": "UlLrBPEBnz_W"
      },
      "execution_count": null,
      "outputs": []
    },
    {
      "cell_type": "markdown",
      "metadata": {
        "id": "ZGMI3fdDm4Fz"
      },
      "source": [
        "#Cross Validation of Models"
      ]
    },
    {
      "cell_type": "markdown",
      "source": [
        "##Linear Regression"
      ],
      "metadata": {
        "id": "1ScOVJViz1wa"
      }
    },
    {
      "cell_type": "code",
      "source": [
        "from sklearn.linear_model import LinearRegression\n",
        "from sklearn.metrics import mean_squared_error, accuracy_score, precision_score, recall_score, f1_score\n",
        "\n",
        "# Train the linear regression model\n",
        "model = LinearRegression()\n"
      ],
      "metadata": {
        "id": "fjAzXclUz6Tw"
      },
      "execution_count": 58,
      "outputs": []
    },
    {
      "cell_type": "code",
      "source": [
        "from sklearn.tree import DecisionTreeRegressor\n",
        "from sklearn.model_selection import cross_val_score\n",
        "from sklearn.metrics import mean_squared_error, r2_score, mean_absolute_error\n",
        "\n",
        "\n",
        "# Perform cross-validation\n",
        "cv_scores = cross_val_score(model, X, y, cv=5, scoring='neg_mean_squared_error')\n",
        "\n",
        "# Convert the negative mean squared error scores to positive\n",
        "mse_scores = -cv_scores\n",
        "\n",
        "# Calculate the mean and standard deviation of the MSE scores\n",
        "mean_mse = np.mean(mse_scores)\n",
        "std_mse = np.std(mse_scores)\n",
        "\n",
        "# Print the mean and standard deviation of the MSE scores\n",
        "print(\"Mean MSE:\", mean_mse)\n",
        "print(\"Std MSE:\", std_mse)\n"
      ],
      "metadata": {
        "colab": {
          "base_uri": "https://localhost:8080/"
        },
        "outputId": "8ba98621-08b2-4b0e-e14e-d5f232af58b1",
        "id": "tThqmUKLz0w4"
      },
      "execution_count": 59,
      "outputs": [
        {
          "output_type": "stream",
          "name": "stdout",
          "text": [
            "Mean MSE: 369821.0979640644\n",
            "Std MSE: 306106.77056563296\n"
          ]
        }
      ]
    },
    {
      "cell_type": "markdown",
      "source": [
        "##Decision Tree Regressor"
      ],
      "metadata": {
        "id": "3XXygTwYtLK9"
      }
    },
    {
      "cell_type": "code",
      "source": [
        "from sklearn.tree import DecisionTreeRegressor\n",
        "from sklearn.metrics import mean_squared_error, r2_score, mean_absolute_error\n",
        "\n",
        "# Train the decision tree regressor model\n",
        "model = DecisionTreeRegressor()\n",
        "\n"
      ],
      "metadata": {
        "id": "pc2yVWkOuSzn"
      },
      "execution_count": 62,
      "outputs": []
    },
    {
      "cell_type": "code",
      "source": [
        "from sklearn.tree import DecisionTreeRegressor\n",
        "from sklearn.model_selection import cross_val_score\n",
        "from sklearn.metrics import mean_squared_error, r2_score, mean_absolute_error\n",
        "\n",
        "\n",
        "# Perform cross-validation\n",
        "cv_scores = cross_val_score(model, X, y, cv=5, scoring='neg_mean_squared_error')\n",
        "\n",
        "# Convert the negative mean squared error scores to positive\n",
        "mse_scores = -cv_scores\n",
        "\n",
        "# Calculate the mean and standard deviation of the MSE scores\n",
        "mean_mse = np.mean(mse_scores)\n",
        "std_mse = np.std(mse_scores)\n",
        "\n",
        "# Print the mean and standard deviation of the MSE scores\n",
        "print(\"Mean MSE:\", mean_mse)\n",
        "print(\"Std MSE:\", std_mse)\n"
      ],
      "metadata": {
        "colab": {
          "base_uri": "https://localhost:8080/"
        },
        "id": "rcFJivSEzIBJ",
        "outputId": "b36db051-6d95-4d4a-9624-a712abbbdf4b"
      },
      "execution_count": 63,
      "outputs": [
        {
          "output_type": "stream",
          "name": "stdout",
          "text": [
            "Mean MSE: 461091.9605246362\n",
            "Std MSE: 333910.2031879427\n"
          ]
        }
      ]
    },
    {
      "cell_type": "markdown",
      "source": [
        "##Random Forest Regressor"
      ],
      "metadata": {
        "id": "s0AogerUtPqD"
      }
    },
    {
      "cell_type": "code",
      "source": [
        "from sklearn.ensemble import RandomForestRegressor\n",
        "\n",
        "model = RandomForestRegressor()"
      ],
      "metadata": {
        "id": "Be1DepXvuYYS"
      },
      "execution_count": null,
      "outputs": []
    },
    {
      "cell_type": "code",
      "source": [],
      "metadata": {
        "id": "pLChZZXWz-KA"
      },
      "execution_count": null,
      "outputs": []
    },
    {
      "cell_type": "code",
      "source": [
        "from sklearn.tree import DecisionTreeRegressor\n",
        "from sklearn.model_selection import cross_val_score\n",
        "from sklearn.metrics import mean_squared_error, r2_score, mean_absolute_error\n",
        "\n",
        "\n",
        "# Perform cross-validation\n",
        "cv_scores = cross_val_score(model, X, y, cv=5, scoring='neg_mean_squared_error')\n",
        "\n",
        "# Convert the negative mean squared error scores to positive\n",
        "mse_scores = -cv_scores\n",
        "\n",
        "# Calculate the mean and standard deviation of the MSE scores\n",
        "mean_mse = np.mean(mse_scores)\n",
        "std_mse = np.std(mse_scores)\n",
        "\n",
        "# Print the mean and standard deviation of the MSE scores\n",
        "print(\"Mean MSE:\", mean_mse)\n",
        "print(\"Std MSE:\", std_mse)\n"
      ],
      "metadata": {
        "colab": {
          "base_uri": "https://localhost:8080/"
        },
        "outputId": "c14d2992-a68c-45ef-ea47-9257953eeca8",
        "id": "IqpqnDsUz-gh"
      },
      "execution_count": null,
      "outputs": [
        {
          "output_type": "stream",
          "name": "stdout",
          "text": [
            "Mean MSE: 465811.65786166786\n",
            "Std MSE: 341737.1221399982\n"
          ]
        }
      ]
    },
    {
      "cell_type": "markdown",
      "source": [
        "##Support Vector Regressor"
      ],
      "metadata": {
        "id": "ii9rlE3ltRLm"
      }
    },
    {
      "cell_type": "code",
      "source": [
        "from sklearn.svm import SVR\n",
        "\n",
        "model = SVR()"
      ],
      "metadata": {
        "id": "fokF4ybIufdy"
      },
      "execution_count": 66,
      "outputs": []
    },
    {
      "cell_type": "code",
      "source": [
        "from sklearn.tree import DecisionTreeRegressor\n",
        "from sklearn.model_selection import cross_val_score\n",
        "from sklearn.metrics import mean_squared_error, r2_score, mean_absolute_error\n",
        "\n",
        "\n",
        "# Perform cross-validation\n",
        "cv_scores = cross_val_score(model, X, y, cv=5, scoring='neg_mean_squared_error')\n",
        "\n",
        "# Convert the negative mean squared error scores to positive\n",
        "mse_scores = -cv_scores\n",
        "\n",
        "# Calculate the mean and standard deviation of the MSE scores\n",
        "mean_mse = np.mean(mse_scores)\n",
        "std_mse = np.std(mse_scores)\n",
        "\n",
        "# Print the mean and standard deviation of the MSE scores\n",
        "print(\"Mean MSE:\", mean_mse)\n",
        "print(\"Std MSE:\", std_mse)\n"
      ],
      "metadata": {
        "colab": {
          "base_uri": "https://localhost:8080/"
        },
        "outputId": "c12ca41b-1ab9-4c88-c76c-8de24a3fd686",
        "id": "_QqAKgnJz_Xm"
      },
      "execution_count": 67,
      "outputs": [
        {
          "output_type": "stream",
          "name": "stdout",
          "text": [
            "Mean MSE: 347812.1745007644\n",
            "Std MSE: 401289.31804972445\n"
          ]
        }
      ]
    },
    {
      "cell_type": "markdown",
      "source": [
        "##Gradient Boosting Regressor"
      ],
      "metadata": {
        "id": "YpuNaSFgtRVf"
      }
    },
    {
      "cell_type": "code",
      "source": [
        "from sklearn.ensemble import GradientBoostingRegressor\n",
        "\n",
        "model = GradientBoostingRegressor()"
      ],
      "metadata": {
        "id": "dHN5CLKtulAX"
      },
      "execution_count": null,
      "outputs": []
    },
    {
      "cell_type": "code",
      "source": [],
      "metadata": {
        "id": "dTqthOAGz_8I"
      },
      "execution_count": null,
      "outputs": []
    },
    {
      "cell_type": "code",
      "source": [
        "from sklearn.tree import DecisionTreeRegressor\n",
        "from sklearn.model_selection import cross_val_score\n",
        "from sklearn.metrics import mean_squared_error, r2_score, mean_absolute_error\n",
        "\n",
        "\n",
        "# Perform cross-validation\n",
        "cv_scores = cross_val_score(model, X, y, cv=5, scoring='neg_mean_squared_error')\n",
        "\n",
        "# Convert the negative mean squared error scores to positive\n",
        "mse_scores = -cv_scores\n",
        "\n",
        "# Calculate the mean and standard deviation of the MSE scores\n",
        "mean_mse = np.mean(mse_scores)\n",
        "std_mse = np.std(mse_scores)\n",
        "\n",
        "# Print the mean and standard deviation of the MSE scores\n",
        "print(\"Mean MSE:\", mean_mse)\n",
        "print(\"Std MSE:\", std_mse)\n"
      ],
      "metadata": {
        "colab": {
          "base_uri": "https://localhost:8080/"
        },
        "outputId": "c14d2992-a68c-45ef-ea47-9257953eeca8",
        "id": "ZRTgUekc0AKw"
      },
      "execution_count": null,
      "outputs": [
        {
          "output_type": "stream",
          "name": "stdout",
          "text": [
            "Mean MSE: 465811.65786166786\n",
            "Std MSE: 341737.1221399982\n"
          ]
        }
      ]
    },
    {
      "cell_type": "markdown",
      "source": [
        "##Neural Network Regressor (MLP)"
      ],
      "metadata": {
        "id": "0wRyc8lLtSCv"
      }
    },
    {
      "cell_type": "code",
      "source": [
        "from sklearn.neural_network import MLPRegressor\n",
        "\n",
        "model = MLPRegressor()"
      ],
      "metadata": {
        "id": "0BkhpFREusEo"
      },
      "execution_count": null,
      "outputs": []
    },
    {
      "cell_type": "code",
      "source": [],
      "metadata": {
        "id": "HQJ5g-d70AuD"
      },
      "execution_count": null,
      "outputs": []
    },
    {
      "cell_type": "code",
      "source": [
        "from sklearn.tree import DecisionTreeRegressor\n",
        "from sklearn.model_selection import cross_val_score\n",
        "from sklearn.metrics import mean_squared_error, r2_score, mean_absolute_error\n",
        "\n",
        "\n",
        "# Perform cross-validation\n",
        "cv_scores = cross_val_score(model, X, y, cv=5, scoring='neg_mean_squared_error')\n",
        "\n",
        "# Convert the negative mean squared error scores to positive\n",
        "mse_scores = -cv_scores\n",
        "\n",
        "# Calculate the mean and standard deviation of the MSE scores\n",
        "mean_mse = np.mean(mse_scores)\n",
        "std_mse = np.std(mse_scores)\n",
        "\n",
        "# Print the mean and standard deviation of the MSE scores\n",
        "print(\"Mean MSE:\", mean_mse)\n",
        "print(\"Std MSE:\", std_mse)\n"
      ],
      "metadata": {
        "colab": {
          "base_uri": "https://localhost:8080/"
        },
        "outputId": "c14d2992-a68c-45ef-ea47-9257953eeca8",
        "id": "Y4lf3CPi0A-A"
      },
      "execution_count": null,
      "outputs": [
        {
          "output_type": "stream",
          "name": "stdout",
          "text": [
            "Mean MSE: 465811.65786166786\n",
            "Std MSE: 341737.1221399982\n"
          ]
        }
      ]
    },
    {
      "cell_type": "markdown",
      "source": [
        "##With Feature Selection and Hyperparameter Tuning"
      ],
      "metadata": {
        "id": "DSTmfK3VstxB"
      }
    },
    {
      "cell_type": "code",
      "execution_count": null,
      "metadata": {
        "id": "LAve64KMp_Vq"
      },
      "outputs": [],
      "source": [
        "#With Feature Selection and Hyperparameter Tuning"
      ]
    },
    {
      "cell_type": "code",
      "source": [
        "from sklearn.model_selection import GridSearchCV\n",
        "from sklearn.feature_selection import SelectKBest\n",
        "from sklearn.linear_model import LinearRegression\n",
        "from sklearn.metrics import mean_squared_error\n",
        "\n",
        "# Define the models\n",
        "models = {\n",
        "    \"Decision Tree Regressor\": DecisionTreeRegressor(),\n",
        "    \"Random Forest Regressor\": RandomForestRegressor(),\n",
        "    \"Support Vector Regressor\": SVR(),\n",
        "    \"Gradient Boosting Regressor\": GradientBoostingRegressor(),\n",
        "    \"Neural Network Regressor\": MLPRegressor(),\n",
        "    \"Linear Regression\": LinearRegression()\n",
        "}\n",
        "\n",
        "# Define the parameter grids for hyperparameter tuning\n",
        "param_grids = {\n",
        "    \"Decision Tree Regressor\": {\n",
        "        \"max_depth\": [3, 5, 7],\n",
        "        \"min_samples_split\": [2, 5, 10],\n",
        "        \"min_samples_leaf\": [1, 3, 5]\n",
        "    },\n",
        "    \"Random Forest Regressor\": {\n",
        "        \"n_estimators\": [50, 100, 200],\n",
        "        \"max_depth\": [3, 5, 7],\n",
        "        \"min_samples_split\": [2, 5, 10],\n",
        "        \"min_samples_leaf\": [1, 3, 5]\n",
        "    },\n",
        "    \"Support Vector Regressor\": {\n",
        "        \"C\": [0.1, 1, 10],\n",
        "        \"epsilon\": [0.1, 0.01, 0.001]\n",
        "    },\n",
        "    \"Gradient Boosting Regressor\": {\n",
        "        \"n_estimators\": [50, 100, 200],\n",
        "        \"learning_rate\": [0.1, 0.01, 0.001],\n",
        "        \"max_depth\": [3, 5, 7]\n",
        "    },\n",
        "    \"Neural Network Regressor\": {\n",
        "        \"hidden_layer_sizes\": [(100,), (100, 50), (200, 100)],\n",
        "        \"alpha\": [0.1, 0.01, 0.001]\n",
        "    },\n",
        "    \"Linear Regression\": {}\n",
        "}\n",
        "\n",
        "# Initialize an empty dictionary to store the results\n",
        "results = {}\n",
        "\n",
        "# Iterate over the models\n",
        "for model_name, model in models.items():\n",
        "    print(\"Model:\", model_name)\n",
        "\n",
        "    # Perform feature selection\n",
        "    feature_selector = SelectKBest()\n",
        "    X_selected = feature_selector.fit_transform(X, y)\n",
        "\n",
        "    # Perform grid search cross-validation\n",
        "    param_grid = param_grids[model_name]\n",
        "    grid_search = GridSearchCV(estimator=model, param_grid=param_grid, cv=5, scoring='neg_mean_squared_error')\n",
        "    grid_search.fit(X_selected, y)\n",
        "\n",
        "    # Get the best model and its corresponding hyperparameters\n",
        "    best_model = grid_search.best_estimator_\n",
        "    best_params = grid_search.best_params_\n",
        "\n",
        "    # Train the best model on the entire dataset\n",
        "    best_model.fit(X_selected, y)\n",
        "\n",
        "    # Make predictions on the test set\n",
        "    X_test_selected = feature_selector.transform(X_test)\n",
        "    y_pred = best_model.predict(X_test_selected)\n",
        "\n",
        "    # Evaluate the best model\n",
        "    mse = mean_squared_error(y_test, y_pred)\n",
        "    r2 = r2_score(y_test, y_pred)\n",
        "    mae = mean_absolute_error(y_test, y_pred)\n",
        "    rmse = np.sqrt(mse)\n",
        "\n",
        "    # Store the results in the dictionary\n",
        "    results[model_name] = {\n",
        "        \"Best Model\": best_model,\n",
        "        \"Best Parameters\": best_params,\n",
        "        \"Mean Squared Error\": mse,\n",
        "        \"R-squared\": r2,\n",
        "        \"Mean Absolute Error\": mae,\n",
        "        \"Root Mean Squared Error\": rmse\n",
        "    }\n",
        "\n",
        "    # Print the results\n",
        "    print(\"Best Model:\", best_model)\n",
        "    print(\"Best Parameters:\", best_params)\n",
        "    print(\"Mean Squared Error:\", mse)\n",
        "    print(\"R-squared:\", r2)\n",
        "    print(\"Mean Absolute Error:\", mae)\n",
        "    print(\"Root Mean Squared Error:\", rmse)\n",
        "    print()\n"
      ],
      "metadata": {
        "id": "MHp1XiDf1IrO"
      },
      "execution_count": null,
      "outputs": []
    }
  ],
  "metadata": {
    "colab": {
      "collapsed_sections": [
        "pBZU-ZCt5ok_",
        "DsCrx9DLC_Kn",
        "ePVaO3VmjuHw",
        "CEuoDFo8n-JU",
        "TE9ZiX5-od04",
        "nB4wvHdunh5y",
        "3XXygTwYtLK9",
        "ii9rlE3ltRLm"
      ],
      "provenance": [],
      "toc_visible": true,
      "include_colab_link": true
    },
    "kernelspec": {
      "display_name": "Python 3",
      "name": "python3"
    },
    "language_info": {
      "name": "python"
    }
  },
  "nbformat": 4,
  "nbformat_minor": 0
}